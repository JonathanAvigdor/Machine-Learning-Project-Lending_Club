{
 "cells": [
  {
   "cell_type": "markdown",
   "metadata": {},
   "source": [
    "# EDA \n",
    "### to understand the data before ML"
   ]
  },
  {
   "cell_type": "code",
   "execution_count": 1,
   "metadata": {},
   "outputs": [],
   "source": [
    "import pandas as pd"
   ]
  },
  {
   "cell_type": "code",
   "execution_count": 2,
   "metadata": {},
   "outputs": [],
   "source": [
    "# Show all columns (no truncation)\n",
    "pd.set_option(\"display.max_columns\", None)\n",
    "\n",
    "# Optional: show wider tables without wrapping\n",
    "pd.set_option(\"display.width\", None)"
   ]
  },
  {
   "cell_type": "code",
   "execution_count": 3,
   "metadata": {},
   "outputs": [],
   "source": [
    "df = pd.read_csv(\"lendingclub_clean.csv\")"
   ]
  },
  {
   "cell_type": "code",
   "execution_count": 4,
   "metadata": {},
   "outputs": [
    {
     "name": "stdout",
     "output_type": "stream",
     "text": [
      "<class 'pandas.core.frame.DataFrame'>\n",
      "RangeIndex: 2260701 entries, 0 to 2260700\n",
      "Data columns (total 26 columns):\n",
      " #   Column                Dtype  \n",
      "---  ------                -----  \n",
      " 0   loan_amnt             float64\n",
      " 1   term                  object \n",
      " 2   int_rate              float64\n",
      " 3   installment           float64\n",
      " 4   grade                 object \n",
      " 5   sub_grade             object \n",
      " 6   emp_title             object \n",
      " 7   emp_length            object \n",
      " 8   home_ownership        object \n",
      " 9   annual_inc            float64\n",
      " 10  verification_status   object \n",
      " 11  issue_d               object \n",
      " 12  loan_status           object \n",
      " 13  purpose               object \n",
      " 14  title                 object \n",
      " 15  dti                   float64\n",
      " 16  earliest_cr_line      object \n",
      " 17  open_acc              float64\n",
      " 18  pub_rec               float64\n",
      " 19  revol_bal             float64\n",
      " 20  revol_util            float64\n",
      " 21  total_acc             float64\n",
      " 22  initial_list_status   object \n",
      " 23  application_type      object \n",
      " 24  mort_acc              float64\n",
      " 25  pub_rec_bankruptcies  float64\n",
      "dtypes: float64(12), object(14)\n",
      "memory usage: 448.4+ MB\n"
     ]
    }
   ],
   "source": [
    "df.info()"
   ]
  },
  {
   "cell_type": "code",
   "execution_count": 5,
   "metadata": {},
   "outputs": [
    {
     "data": {
      "text/html": [
       "<div>\n",
       "<style scoped>\n",
       "    .dataframe tbody tr th:only-of-type {\n",
       "        vertical-align: middle;\n",
       "    }\n",
       "\n",
       "    .dataframe tbody tr th {\n",
       "        vertical-align: top;\n",
       "    }\n",
       "\n",
       "    .dataframe thead th {\n",
       "        text-align: right;\n",
       "    }\n",
       "</style>\n",
       "<table border=\"1\" class=\"dataframe\">\n",
       "  <thead>\n",
       "    <tr style=\"text-align: right;\">\n",
       "      <th></th>\n",
       "      <th>loan_amnt</th>\n",
       "      <th>term</th>\n",
       "      <th>int_rate</th>\n",
       "      <th>installment</th>\n",
       "      <th>grade</th>\n",
       "      <th>sub_grade</th>\n",
       "      <th>emp_title</th>\n",
       "      <th>emp_length</th>\n",
       "      <th>home_ownership</th>\n",
       "      <th>annual_inc</th>\n",
       "      <th>verification_status</th>\n",
       "      <th>issue_d</th>\n",
       "      <th>loan_status</th>\n",
       "      <th>purpose</th>\n",
       "      <th>title</th>\n",
       "      <th>dti</th>\n",
       "      <th>earliest_cr_line</th>\n",
       "      <th>open_acc</th>\n",
       "      <th>pub_rec</th>\n",
       "      <th>revol_bal</th>\n",
       "      <th>revol_util</th>\n",
       "      <th>total_acc</th>\n",
       "      <th>initial_list_status</th>\n",
       "      <th>application_type</th>\n",
       "      <th>mort_acc</th>\n",
       "      <th>pub_rec_bankruptcies</th>\n",
       "    </tr>\n",
       "  </thead>\n",
       "  <tbody>\n",
       "    <tr>\n",
       "      <th>0</th>\n",
       "      <td>3600.0</td>\n",
       "      <td>36 months</td>\n",
       "      <td>13.99</td>\n",
       "      <td>123.03</td>\n",
       "      <td>C</td>\n",
       "      <td>C4</td>\n",
       "      <td>leadman</td>\n",
       "      <td>10+ years</td>\n",
       "      <td>MORTGAGE</td>\n",
       "      <td>55000.0</td>\n",
       "      <td>Not Verified</td>\n",
       "      <td>Dec-2015</td>\n",
       "      <td>Fully Paid</td>\n",
       "      <td>debt_consolidation</td>\n",
       "      <td>Debt consolidation</td>\n",
       "      <td>5.91</td>\n",
       "      <td>Aug-2003</td>\n",
       "      <td>7.0</td>\n",
       "      <td>0.0</td>\n",
       "      <td>2765.0</td>\n",
       "      <td>29.7</td>\n",
       "      <td>13.0</td>\n",
       "      <td>w</td>\n",
       "      <td>Individual</td>\n",
       "      <td>1.0</td>\n",
       "      <td>0.0</td>\n",
       "    </tr>\n",
       "    <tr>\n",
       "      <th>1</th>\n",
       "      <td>24700.0</td>\n",
       "      <td>36 months</td>\n",
       "      <td>11.99</td>\n",
       "      <td>820.28</td>\n",
       "      <td>C</td>\n",
       "      <td>C1</td>\n",
       "      <td>Engineer</td>\n",
       "      <td>10+ years</td>\n",
       "      <td>MORTGAGE</td>\n",
       "      <td>65000.0</td>\n",
       "      <td>Not Verified</td>\n",
       "      <td>Dec-2015</td>\n",
       "      <td>Fully Paid</td>\n",
       "      <td>small_business</td>\n",
       "      <td>Business</td>\n",
       "      <td>16.06</td>\n",
       "      <td>Dec-1999</td>\n",
       "      <td>22.0</td>\n",
       "      <td>0.0</td>\n",
       "      <td>21470.0</td>\n",
       "      <td>19.2</td>\n",
       "      <td>38.0</td>\n",
       "      <td>w</td>\n",
       "      <td>Individual</td>\n",
       "      <td>4.0</td>\n",
       "      <td>0.0</td>\n",
       "    </tr>\n",
       "    <tr>\n",
       "      <th>2</th>\n",
       "      <td>20000.0</td>\n",
       "      <td>60 months</td>\n",
       "      <td>10.78</td>\n",
       "      <td>432.66</td>\n",
       "      <td>B</td>\n",
       "      <td>B4</td>\n",
       "      <td>truck driver</td>\n",
       "      <td>10+ years</td>\n",
       "      <td>MORTGAGE</td>\n",
       "      <td>63000.0</td>\n",
       "      <td>Not Verified</td>\n",
       "      <td>Dec-2015</td>\n",
       "      <td>Fully Paid</td>\n",
       "      <td>home_improvement</td>\n",
       "      <td>NaN</td>\n",
       "      <td>10.78</td>\n",
       "      <td>Aug-2000</td>\n",
       "      <td>6.0</td>\n",
       "      <td>0.0</td>\n",
       "      <td>7869.0</td>\n",
       "      <td>56.2</td>\n",
       "      <td>18.0</td>\n",
       "      <td>w</td>\n",
       "      <td>Joint App</td>\n",
       "      <td>5.0</td>\n",
       "      <td>0.0</td>\n",
       "    </tr>\n",
       "    <tr>\n",
       "      <th>3</th>\n",
       "      <td>35000.0</td>\n",
       "      <td>60 months</td>\n",
       "      <td>14.85</td>\n",
       "      <td>829.90</td>\n",
       "      <td>C</td>\n",
       "      <td>C5</td>\n",
       "      <td>Information Systems Officer</td>\n",
       "      <td>10+ years</td>\n",
       "      <td>MORTGAGE</td>\n",
       "      <td>110000.0</td>\n",
       "      <td>Source Verified</td>\n",
       "      <td>Dec-2015</td>\n",
       "      <td>Current</td>\n",
       "      <td>debt_consolidation</td>\n",
       "      <td>Debt consolidation</td>\n",
       "      <td>17.06</td>\n",
       "      <td>Sep-2008</td>\n",
       "      <td>13.0</td>\n",
       "      <td>0.0</td>\n",
       "      <td>7802.0</td>\n",
       "      <td>11.6</td>\n",
       "      <td>17.0</td>\n",
       "      <td>w</td>\n",
       "      <td>Individual</td>\n",
       "      <td>1.0</td>\n",
       "      <td>0.0</td>\n",
       "    </tr>\n",
       "    <tr>\n",
       "      <th>4</th>\n",
       "      <td>10400.0</td>\n",
       "      <td>60 months</td>\n",
       "      <td>22.45</td>\n",
       "      <td>289.91</td>\n",
       "      <td>F</td>\n",
       "      <td>F1</td>\n",
       "      <td>Contract Specialist</td>\n",
       "      <td>3 years</td>\n",
       "      <td>MORTGAGE</td>\n",
       "      <td>104433.0</td>\n",
       "      <td>Source Verified</td>\n",
       "      <td>Dec-2015</td>\n",
       "      <td>Fully Paid</td>\n",
       "      <td>major_purchase</td>\n",
       "      <td>Major purchase</td>\n",
       "      <td>25.37</td>\n",
       "      <td>Jun-1998</td>\n",
       "      <td>12.0</td>\n",
       "      <td>0.0</td>\n",
       "      <td>21929.0</td>\n",
       "      <td>64.5</td>\n",
       "      <td>35.0</td>\n",
       "      <td>w</td>\n",
       "      <td>Individual</td>\n",
       "      <td>6.0</td>\n",
       "      <td>0.0</td>\n",
       "    </tr>\n",
       "  </tbody>\n",
       "</table>\n",
       "</div>"
      ],
      "text/plain": [
       "   loan_amnt        term  int_rate  installment grade sub_grade  \\\n",
       "0     3600.0   36 months     13.99       123.03     C        C4   \n",
       "1    24700.0   36 months     11.99       820.28     C        C1   \n",
       "2    20000.0   60 months     10.78       432.66     B        B4   \n",
       "3    35000.0   60 months     14.85       829.90     C        C5   \n",
       "4    10400.0   60 months     22.45       289.91     F        F1   \n",
       "\n",
       "                     emp_title emp_length home_ownership  annual_inc  \\\n",
       "0                      leadman  10+ years       MORTGAGE     55000.0   \n",
       "1                     Engineer  10+ years       MORTGAGE     65000.0   \n",
       "2                 truck driver  10+ years       MORTGAGE     63000.0   \n",
       "3  Information Systems Officer  10+ years       MORTGAGE    110000.0   \n",
       "4          Contract Specialist    3 years       MORTGAGE    104433.0   \n",
       "\n",
       "  verification_status   issue_d loan_status             purpose  \\\n",
       "0        Not Verified  Dec-2015  Fully Paid  debt_consolidation   \n",
       "1        Not Verified  Dec-2015  Fully Paid      small_business   \n",
       "2        Not Verified  Dec-2015  Fully Paid    home_improvement   \n",
       "3     Source Verified  Dec-2015     Current  debt_consolidation   \n",
       "4     Source Verified  Dec-2015  Fully Paid      major_purchase   \n",
       "\n",
       "                title    dti earliest_cr_line  open_acc  pub_rec  revol_bal  \\\n",
       "0  Debt consolidation   5.91         Aug-2003       7.0      0.0     2765.0   \n",
       "1            Business  16.06         Dec-1999      22.0      0.0    21470.0   \n",
       "2                 NaN  10.78         Aug-2000       6.0      0.0     7869.0   \n",
       "3  Debt consolidation  17.06         Sep-2008      13.0      0.0     7802.0   \n",
       "4      Major purchase  25.37         Jun-1998      12.0      0.0    21929.0   \n",
       "\n",
       "   revol_util  total_acc initial_list_status application_type  mort_acc  \\\n",
       "0        29.7       13.0                   w       Individual       1.0   \n",
       "1        19.2       38.0                   w       Individual       4.0   \n",
       "2        56.2       18.0                   w        Joint App       5.0   \n",
       "3        11.6       17.0                   w       Individual       1.0   \n",
       "4        64.5       35.0                   w       Individual       6.0   \n",
       "\n",
       "   pub_rec_bankruptcies  \n",
       "0                   0.0  \n",
       "1                   0.0  \n",
       "2                   0.0  \n",
       "3                   0.0  \n",
       "4                   0.0  "
      ]
     },
     "execution_count": 5,
     "metadata": {},
     "output_type": "execute_result"
    }
   ],
   "source": [
    "df.head()"
   ]
  },
  {
   "cell_type": "code",
   "execution_count": 6,
   "metadata": {},
   "outputs": [],
   "source": [
    "import pandas as pd\n",
    "import numpy as np\n",
    "import seaborn as sns\n",
    "from scipy import stats \n",
    "import matplotlib.pyplot as plt\n"
   ]
  },
  {
   "cell_type": "code",
   "execution_count": 7,
   "metadata": {},
   "outputs": [],
   "source": [
    "loan_df = df.copy()"
   ]
  },
  {
   "cell_type": "code",
   "execution_count": 8,
   "metadata": {},
   "outputs": [
    {
     "name": "stdout",
     "output_type": "stream",
     "text": [
      "loan_status\n",
      "0    0.800374\n",
      "1    0.199626\n",
      "Name: proportion, dtype: float64\n",
      "(1345310, 26)\n"
     ]
    }
   ],
   "source": [
    "# target- loan_status : keep only fullypaid and chargerd odd - convert to binary : 0=fully paid, 1 = charged off\n",
    "\n",
    "# Keep only Fully Paid and Charged Off\n",
    "loan_df = loan_df[loan_df[\"loan_status\"].isin([\"Fully Paid\", \"Charged Off\"])]\n",
    "\n",
    "# Map to binary target: Fully Paid = 1, Charged Off = 0\n",
    "loan_df[\"loan_status\"] = loan_df[\"loan_status\"].map({\"Fully Paid\": 0, \"Charged Off\": 1})\n",
    "\n",
    "# Quick checks\n",
    "print(loan_df[\"loan_status\"].value_counts(normalize=True))  \n",
    "print(loan_df.shape)  # new dataset size"
   ]
  },
  {
   "cell_type": "code",
   "execution_count": 9,
   "metadata": {
    "scrolled": false
   },
   "outputs": [
    {
     "name": "stderr",
     "output_type": "stream",
     "text": [
      "C:\\Users\\Lenovo\\AppData\\Local\\Temp\\ipykernel_5448\\1945057976.py:39: UserWarning: Could not infer format, so each element will be parsed individually, falling back to `dateutil`. To ensure parsing is consistent and as-expected, please specify a format.\n",
      "  loan_df[col] = pd.to_datetime(loan_df[col], errors=\"coerce\")\n",
      "C:\\Users\\Lenovo\\AppData\\Local\\Temp\\ipykernel_5448\\1945057976.py:39: UserWarning: Could not infer format, so each element will be parsed individually, falling back to `dateutil`. To ensure parsing is consistent and as-expected, please specify a format.\n",
      "  loan_df[col] = pd.to_datetime(loan_df[col], errors=\"coerce\")\n"
     ]
    },
    {
     "name": "stdout",
     "output_type": "stream",
     "text": [
      "   term  int_rate  emp_length  issue_d  earliest_cr_line\n",
      "0  36.0     13.99        10.0     2015              2003\n",
      "1  36.0     11.99        10.0     2015              1999\n",
      "2  60.0     10.78        10.0     2015              2000\n",
      "4  60.0     22.45         3.0     2015              1998\n",
      "5  36.0     13.44         4.0     2015              1987\n",
      "               term    emp_length\n",
      "count  1.345310e+06  1.266799e+06\n",
      "mean   4.179020e+01  5.965873e+00\n",
      "std    1.026832e+01  3.691166e+00\n",
      "min    3.600000e+01  0.000000e+00\n",
      "25%    3.600000e+01  2.000000e+00\n",
      "50%    3.600000e+01  6.000000e+00\n",
      "75%    3.600000e+01  1.000000e+01\n",
      "max    6.000000e+01  1.000000e+01\n"
     ]
    }
   ],
   "source": [
    "import numpy as np\n",
    "import re\n",
    "\n",
    "# --- TERM: \"36 months\" -> 36; \"60 months\" -> 60\n",
    "loan_df[\"term\"] = (\n",
    "    loan_df[\"term\"]\n",
    "    .astype(str)\n",
    "    .str.extract(r\"(\\d+)\")\n",
    "    .astype(float)\n",
    ")\n",
    "\n",
    "# --- INT_RATE: ensure numeric (strip % if present)\n",
    "if loan_df[\"int_rate\"].dtype == \"object\":\n",
    "    loan_df[\"int_rate\"] = (\n",
    "        loan_df[\"int_rate\"].str.replace(\"%\", \"\", regex=False).astype(float)\n",
    "    )\n",
    "\n",
    "# --- EMP_LENGTH: map to 0–10\n",
    "emp_map = {\n",
    "    \"< 1 year\": 0,\n",
    "    \"1 year\": 1, \"2 years\": 2, \"3 years\": 3, \"4 years\": 4, \"5 years\": 5,\n",
    "    \"6 years\": 6, \"7 years\": 7, \"8 years\": 8, \"9 years\": 9,\n",
    "    \"10+ years\": 10\n",
    "}\n",
    "\n",
    "loan_df[\"emp_length\"] = (\n",
    "    loan_df[\"emp_length\"]\n",
    "    .astype(\"string\")\n",
    "    .str.strip()\n",
    "    .map(emp_map)\n",
    "    .astype(\"float\")   # keeps NaN if unknown\n",
    ")\n",
    "\n",
    "\n",
    "# --- DATES: issue_d & earliest_cr_line -> year\n",
    "# Handle formats like \"Jan-2015\" or already-parsed timestamps\n",
    "for col in [\"issue_d\", \"earliest_cr_line\"]:\n",
    "    # Try parse with multiple formats; coerce errors to NaT\n",
    "    loan_df[col] = pd.to_datetime(loan_df[col], errors=\"coerce\")\n",
    "    loan_df[col] = loan_df[col].dt.year\n",
    "\n",
    "# --- Quick sanity checks\n",
    "print(loan_df[[\"term\",\"int_rate\",\"emp_length\",\"issue_d\",\"earliest_cr_line\"]].head())\n",
    "print(loan_df[[\"term\",\"emp_length\"]].describe())\n"
   ]
  },
  {
   "cell_type": "code",
   "execution_count": 10,
   "metadata": {},
   "outputs": [
    {
     "name": "stdout",
     "output_type": "stream",
     "text": [
      "<class 'pandas.core.frame.DataFrame'>\n",
      "Index: 1345310 entries, 0 to 2260697\n",
      "Data columns (total 26 columns):\n",
      " #   Column                Non-Null Count    Dtype  \n",
      "---  ------                --------------    -----  \n",
      " 0   loan_amnt             1345310 non-null  float64\n",
      " 1   term                  1345310 non-null  float64\n",
      " 2   int_rate              1345310 non-null  float64\n",
      " 3   installment           1345310 non-null  float64\n",
      " 4   grade                 1345310 non-null  object \n",
      " 5   sub_grade             1345310 non-null  object \n",
      " 6   emp_title             1259525 non-null  object \n",
      " 7   emp_length            1266799 non-null  float64\n",
      " 8   home_ownership        1345310 non-null  object \n",
      " 9   annual_inc            1345310 non-null  float64\n",
      " 10  verification_status   1345310 non-null  object \n",
      " 11  issue_d               1345310 non-null  int32  \n",
      " 12  loan_status           1345310 non-null  int64  \n",
      " 13  purpose               1345310 non-null  object \n",
      " 14  title                 1328650 non-null  object \n",
      " 15  dti                   1344936 non-null  float64\n",
      " 16  earliest_cr_line      1345310 non-null  int32  \n",
      " 17  open_acc              1345310 non-null  float64\n",
      " 18  pub_rec               1345310 non-null  float64\n",
      " 19  revol_bal             1345310 non-null  float64\n",
      " 20  revol_util            1344453 non-null  float64\n",
      " 21  total_acc             1345310 non-null  float64\n",
      " 22  initial_list_status   1345310 non-null  object \n",
      " 23  application_type      1345310 non-null  object \n",
      " 24  mort_acc              1298029 non-null  float64\n",
      " 25  pub_rec_bankruptcies  1344613 non-null  float64\n",
      "dtypes: float64(14), int32(2), int64(1), object(9)\n",
      "memory usage: 266.9+ MB\n"
     ]
    }
   ],
   "source": [
    "loan_df.info()"
   ]
  },
  {
   "cell_type": "code",
   "execution_count": 11,
   "metadata": {},
   "outputs": [],
   "source": [
    "# rename the columns\n",
    "loan_df = loan_df.rename(columns={\n",
    "    \"term\": \"term_months\",\n",
    "    \"int_rate\": \"int_rate_percenta\",\n",
    "    \"emp_length\": \"emp_length_years\"\n",
    "})\n"
   ]
  },
  {
   "cell_type": "code",
   "execution_count": 12,
   "metadata": {},
   "outputs": [
    {
     "data": {
      "image/png": "[encoded data removed]",
      "text/plain": [
       "<Figure size 600x400 with 1 Axes>"
      ]
     },
     "metadata": {},
     "output_type": "display_data"
    }
   ],
   "source": [
    "import matplotlib.pyplot as plt\n",
    "\n",
    "# Your series\n",
    "class_dist = loan_df[\"loan_status\"].value_counts(normalize=True)\n",
    "\n",
    "# --- Bar plot ---\n",
    "plt.figure(figsize=(6,4))\n",
    "class_dist.plot(kind=\"bar\", color=[\"steelblue\",\"tomato\"])\n",
    "plt.title(\"Class Distribution (loan_status)\")\n",
    "plt.ylabel(\"Proportion\")\n",
    "plt.xticks(rotation=0)\n",
    "plt.ylim(0,1)\n",
    "plt.show()\n"
   ]
  },
  {
   "cell_type": "code",
   "execution_count": 14,
   "metadata": {},
   "outputs": [
    {
     "data": {
      "text/html": [
       "<div>\n",
       "<style scoped>\n",
       "    .dataframe tbody tr th:only-of-type {\n",
       "        vertical-align: middle;\n",
       "    }\n",
       "\n",
       "    .dataframe tbody tr th {\n",
       "        vertical-align: top;\n",
       "    }\n",
       "\n",
       "    .dataframe thead th {\n",
       "        text-align: right;\n",
       "    }\n",
       "</style>\n",
       "<table border=\"1\" class=\"dataframe\">\n",
       "  <thead>\n",
       "    <tr style=\"text-align: right;\">\n",
       "      <th></th>\n",
       "      <th>loan_amnt</th>\n",
       "      <th>term_months</th>\n",
       "      <th>int_rate_percenta</th>\n",
       "      <th>installment</th>\n",
       "      <th>grade</th>\n",
       "      <th>sub_grade</th>\n",
       "      <th>emp_title</th>\n",
       "      <th>emp_length_years</th>\n",
       "      <th>home_ownership</th>\n",
       "      <th>annual_inc</th>\n",
       "      <th>verification_status</th>\n",
       "      <th>issue_d</th>\n",
       "      <th>loan_status</th>\n",
       "      <th>purpose</th>\n",
       "      <th>title</th>\n",
       "      <th>dti</th>\n",
       "      <th>earliest_cr_line</th>\n",
       "      <th>open_acc</th>\n",
       "      <th>pub_rec</th>\n",
       "      <th>revol_bal</th>\n",
       "      <th>revol_util</th>\n",
       "      <th>total_acc</th>\n",
       "      <th>initial_list_status</th>\n",
       "      <th>application_type</th>\n",
       "      <th>mort_acc</th>\n",
       "      <th>pub_rec_bankruptcies</th>\n",
       "    </tr>\n",
       "  </thead>\n",
       "  <tbody>\n",
       "    <tr>\n",
       "      <th>0</th>\n",
       "      <td>3600.0</td>\n",
       "      <td>36.0</td>\n",
       "      <td>13.99</td>\n",
       "      <td>123.03</td>\n",
       "      <td>C</td>\n",
       "      <td>C4</td>\n",
       "      <td>leadman</td>\n",
       "      <td>10.0</td>\n",
       "      <td>MORTGAGE</td>\n",
       "      <td>55000.0</td>\n",
       "      <td>Not Verified</td>\n",
       "      <td>2015</td>\n",
       "      <td>0</td>\n",
       "      <td>debt_consolidation</td>\n",
       "      <td>Debt consolidation</td>\n",
       "      <td>5.91</td>\n",
       "      <td>2003</td>\n",
       "      <td>7.0</td>\n",
       "      <td>0.0</td>\n",
       "      <td>2765.0</td>\n",
       "      <td>29.7</td>\n",
       "      <td>13.0</td>\n",
       "      <td>w</td>\n",
       "      <td>Individual</td>\n",
       "      <td>1.0</td>\n",
       "      <td>0.0</td>\n",
       "    </tr>\n",
       "    <tr>\n",
       "      <th>1</th>\n",
       "      <td>24700.0</td>\n",
       "      <td>36.0</td>\n",
       "      <td>11.99</td>\n",
       "      <td>820.28</td>\n",
       "      <td>C</td>\n",
       "      <td>C1</td>\n",
       "      <td>Engineer</td>\n",
       "      <td>10.0</td>\n",
       "      <td>MORTGAGE</td>\n",
       "      <td>65000.0</td>\n",
       "      <td>Not Verified</td>\n",
       "      <td>2015</td>\n",
       "      <td>0</td>\n",
       "      <td>small_business</td>\n",
       "      <td>Business</td>\n",
       "      <td>16.06</td>\n",
       "      <td>1999</td>\n",
       "      <td>22.0</td>\n",
       "      <td>0.0</td>\n",
       "      <td>21470.0</td>\n",
       "      <td>19.2</td>\n",
       "      <td>38.0</td>\n",
       "      <td>w</td>\n",
       "      <td>Individual</td>\n",
       "      <td>4.0</td>\n",
       "      <td>0.0</td>\n",
       "    </tr>\n",
       "    <tr>\n",
       "      <th>2</th>\n",
       "      <td>20000.0</td>\n",
       "      <td>60.0</td>\n",
       "      <td>10.78</td>\n",
       "      <td>432.66</td>\n",
       "      <td>B</td>\n",
       "      <td>B4</td>\n",
       "      <td>truck driver</td>\n",
       "      <td>10.0</td>\n",
       "      <td>MORTGAGE</td>\n",
       "      <td>63000.0</td>\n",
       "      <td>Not Verified</td>\n",
       "      <td>2015</td>\n",
       "      <td>0</td>\n",
       "      <td>home_improvement</td>\n",
       "      <td>NaN</td>\n",
       "      <td>10.78</td>\n",
       "      <td>2000</td>\n",
       "      <td>6.0</td>\n",
       "      <td>0.0</td>\n",
       "      <td>7869.0</td>\n",
       "      <td>56.2</td>\n",
       "      <td>18.0</td>\n",
       "      <td>w</td>\n",
       "      <td>Joint App</td>\n",
       "      <td>5.0</td>\n",
       "      <td>0.0</td>\n",
       "    </tr>\n",
       "    <tr>\n",
       "      <th>4</th>\n",
       "      <td>10400.0</td>\n",
       "      <td>60.0</td>\n",
       "      <td>22.45</td>\n",
       "      <td>289.91</td>\n",
       "      <td>F</td>\n",
       "      <td>F1</td>\n",
       "      <td>Contract Specialist</td>\n",
       "      <td>3.0</td>\n",
       "      <td>MORTGAGE</td>\n",
       "      <td>104433.0</td>\n",
       "      <td>Source Verified</td>\n",
       "      <td>2015</td>\n",
       "      <td>0</td>\n",
       "      <td>major_purchase</td>\n",
       "      <td>Major purchase</td>\n",
       "      <td>25.37</td>\n",
       "      <td>1998</td>\n",
       "      <td>12.0</td>\n",
       "      <td>0.0</td>\n",
       "      <td>21929.0</td>\n",
       "      <td>64.5</td>\n",
       "      <td>35.0</td>\n",
       "      <td>w</td>\n",
       "      <td>Individual</td>\n",
       "      <td>6.0</td>\n",
       "      <td>0.0</td>\n",
       "    </tr>\n",
       "    <tr>\n",
       "      <th>5</th>\n",
       "      <td>11950.0</td>\n",
       "      <td>36.0</td>\n",
       "      <td>13.44</td>\n",
       "      <td>405.18</td>\n",
       "      <td>C</td>\n",
       "      <td>C3</td>\n",
       "      <td>Veterinary Tecnician</td>\n",
       "      <td>4.0</td>\n",
       "      <td>RENT</td>\n",
       "      <td>34000.0</td>\n",
       "      <td>Source Verified</td>\n",
       "      <td>2015</td>\n",
       "      <td>0</td>\n",
       "      <td>debt_consolidation</td>\n",
       "      <td>Debt consolidation</td>\n",
       "      <td>10.20</td>\n",
       "      <td>1987</td>\n",
       "      <td>5.0</td>\n",
       "      <td>0.0</td>\n",
       "      <td>8822.0</td>\n",
       "      <td>68.4</td>\n",
       "      <td>6.0</td>\n",
       "      <td>w</td>\n",
       "      <td>Individual</td>\n",
       "      <td>0.0</td>\n",
       "      <td>0.0</td>\n",
       "    </tr>\n",
       "  </tbody>\n",
       "</table>\n",
       "</div>"
      ],
      "text/plain": [
       "   loan_amnt  term_months  int_rate_percenta  installment grade sub_grade  \\\n",
       "0     3600.0         36.0              13.99       123.03     C        C4   \n",
       "1    24700.0         36.0              11.99       820.28     C        C1   \n",
       "2    20000.0         60.0              10.78       432.66     B        B4   \n",
       "4    10400.0         60.0              22.45       289.91     F        F1   \n",
       "5    11950.0         36.0              13.44       405.18     C        C3   \n",
       "\n",
       "              emp_title  emp_length_years home_ownership  annual_inc  \\\n",
       "0               leadman              10.0       MORTGAGE     55000.0   \n",
       "1              Engineer              10.0       MORTGAGE     65000.0   \n",
       "2          truck driver              10.0       MORTGAGE     63000.0   \n",
       "4   Contract Specialist               3.0       MORTGAGE    104433.0   \n",
       "5  Veterinary Tecnician               4.0           RENT     34000.0   \n",
       "\n",
       "  verification_status  issue_d  loan_status             purpose  \\\n",
       "0        Not Verified     2015            0  debt_consolidation   \n",
       "1        Not Verified     2015            0      small_business   \n",
       "2        Not Verified     2015            0    home_improvement   \n",
       "4     Source Verified     2015            0      major_purchase   \n",
       "5     Source Verified     2015            0  debt_consolidation   \n",
       "\n",
       "                title    dti  earliest_cr_line  open_acc  pub_rec  revol_bal  \\\n",
       "0  Debt consolidation   5.91              2003       7.0      0.0     2765.0   \n",
       "1            Business  16.06              1999      22.0      0.0    21470.0   \n",
       "2                 NaN  10.78              2000       6.0      0.0     7869.0   \n",
       "4      Major purchase  25.37              1998      12.0      0.0    21929.0   \n",
       "5  Debt consolidation  10.20              1987       5.0      0.0     8822.0   \n",
       "\n",
       "   revol_util  total_acc initial_list_status application_type  mort_acc  \\\n",
       "0        29.7       13.0                   w       Individual       1.0   \n",
       "1        19.2       38.0                   w       Individual       4.0   \n",
       "2        56.2       18.0                   w        Joint App       5.0   \n",
       "4        64.5       35.0                   w       Individual       6.0   \n",
       "5        68.4        6.0                   w       Individual       0.0   \n",
       "\n",
       "   pub_rec_bankruptcies  \n",
       "0                   0.0  \n",
       "1                   0.0  \n",
       "2                   0.0  \n",
       "4                   0.0  \n",
       "5                   0.0  "
      ]
     },
     "execution_count": 14,
     "metadata": {},
     "output_type": "execute_result"
    }
   ],
   "source": [
    "loan_df.head()"
   ]
  },
  {
   "cell_type": "code",
   "execution_count": 15,
   "metadata": {},
   "outputs": [
    {
     "name": "stdout",
     "output_type": "stream",
     "text": [
      "<class 'pandas.core.frame.DataFrame'>\n",
      "Index: 1345310 entries, 0 to 2260697\n",
      "Data columns (total 26 columns):\n",
      " #   Column                Non-Null Count    Dtype  \n",
      "---  ------                --------------    -----  \n",
      " 0   loan_amnt             1345310 non-null  float64\n",
      " 1   term_months           1345310 non-null  float64\n",
      " 2   int_rate_percenta     1345310 non-null  float64\n",
      " 3   installment           1345310 non-null  float64\n",
      " 4   grade                 1345310 non-null  object \n",
      " 5   sub_grade             1345310 non-null  object \n",
      " 6   emp_title             1259525 non-null  object \n",
      " 7   emp_length_years      1266799 non-null  float64\n",
      " 8   home_ownership        1345310 non-null  object \n",
      " 9   annual_inc            1345310 non-null  float64\n",
      " 10  verification_status   1345310 non-null  object \n",
      " 11  issue_d               1345310 non-null  int32  \n",
      " 12  loan_status           1345310 non-null  int64  \n",
      " 13  purpose               1345310 non-null  object \n",
      " 14  title                 1328650 non-null  object \n",
      " 15  dti                   1344936 non-null  float64\n",
      " 16  earliest_cr_line      1345310 non-null  int32  \n",
      " 17  open_acc              1345310 non-null  float64\n",
      " 18  pub_rec               1345310 non-null  float64\n",
      " 19  revol_bal             1345310 non-null  float64\n",
      " 20  revol_util            1344453 non-null  float64\n",
      " 21  total_acc             1345310 non-null  float64\n",
      " 22  initial_list_status   1345310 non-null  object \n",
      " 23  application_type      1345310 non-null  object \n",
      " 24  mort_acc              1298029 non-null  float64\n",
      " 25  pub_rec_bankruptcies  1344613 non-null  float64\n",
      "dtypes: float64(14), int32(2), int64(1), object(9)\n",
      "memory usage: 266.9+ MB\n"
     ]
    }
   ],
   "source": [
    "loan_df.info()"
   ]
  },
  {
   "cell_type": "markdown",
   "metadata": {},
   "source": [
    "## First Inspection"
   ]
  },
  {
   "cell_type": "code",
   "execution_count": 16,
   "metadata": {},
   "outputs": [
    {
     "name": "stdout",
     "output_type": "stream",
     "text": [
      "Target distribution (loan_status):\n",
      "loan_status\n",
      "0    1076751\n",
      "1     268559\n",
      "Name: count, dtype: int64\n",
      "\n",
      "Target distribution (%):\n",
      "loan_status\n",
      "0    80.04\n",
      "1    19.96\n",
      "Name: proportion, dtype: float64\n",
      "\n",
      "Categorical columns:\n",
      "['grade', 'sub_grade', 'emp_title', 'home_ownership', 'verification_status', 'purpose', 'title', 'initial_list_status', 'application_type']\n",
      "\n",
      "Numeric columns:\n",
      "['loan_amnt', 'term_months', 'int_rate_percenta', 'installment', 'emp_length_years', 'annual_inc', 'issue_d', 'loan_status', 'dti', 'earliest_cr_line', 'open_acc', 'pub_rec', 'revol_bal', 'revol_util', 'total_acc', 'mort_acc', 'pub_rec_bankruptcies']\n"
     ]
    }
   ],
   "source": [
    "# 1) Target balance\n",
    "print(\"Target distribution (loan_status):\")\n",
    "print(loan_df[\"loan_status\"].value_counts())\n",
    "print(\"\\nTarget distribution (%):\")\n",
    "print((loan_df[\"loan_status\"].value_counts(normalize=True) * 100).round(2))\n",
    "\n",
    "# 2) Quick overview of categorical features\n",
    "print(\"\\nCategorical columns:\")\n",
    "print(loan_df.select_dtypes(include=[\"object\"]).columns.tolist())\n",
    "\n",
    "# 3) Quick overview of numeric features\n",
    "print(\"\\nNumeric columns:\")\n",
    "print(loan_df.select_dtypes(include=[\"float64\", \"int64\", \"int32\"]).columns.tolist())\n"
   ]
  },
  {
   "cell_type": "code",
   "execution_count": 17,
   "metadata": {},
   "outputs": [
    {
     "name": "stdout",
     "output_type": "stream",
     "text": [
      "Missing values per column:\n",
      "emp_title               85785\n",
      "emp_length_years        78511\n",
      "mort_acc                47281\n",
      "title                   16660\n",
      "revol_util                857\n",
      "pub_rec_bankruptcies      697\n",
      "dti                       374\n",
      "dtype: int64\n",
      "\n",
      "Percentage missing:\n",
      "emp_title               6.38\n",
      "emp_length_years        5.84\n",
      "mort_acc                3.51\n",
      "title                   1.24\n",
      "revol_util              0.06\n",
      "pub_rec_bankruptcies    0.05\n",
      "dti                     0.03\n",
      "dtype: float64\n"
     ]
    }
   ],
   "source": [
    "# Missing values overview\n",
    "missing = loan_df.isnull().sum()\n",
    "missing = missing[missing > 0].sort_values(ascending=False)\n",
    "\n",
    "print(\"Missing values per column:\")\n",
    "print(missing)\n",
    "\n",
    "print(\"\\nPercentage missing:\")\n",
    "print((missing / len(loan_df) * 100).round(2))\n"
   ]
  },
  {
   "cell_type": "code",
   "execution_count": 19,
   "metadata": {},
   "outputs": [
    {
     "name": "stdout",
     "output_type": "stream",
     "text": [
      "Correlation of numeric features with loan_status:\n",
      "loan_status             1.000000\n",
      "int_rate_percenta       0.258792\n",
      "term_months             0.176096\n",
      "dti                     0.084510\n",
      "loan_amnt               0.065604\n",
      "revol_util              0.060048\n",
      "installment             0.051701\n",
      "issue_d                 0.051381\n",
      "earliest_cr_line        0.044054\n",
      "open_acc                0.028078\n",
      "pub_rec                 0.026194\n",
      "pub_rec_bankruptcies    0.025308\n",
      "total_acc              -0.011300\n",
      "emp_length_years       -0.014235\n",
      "revol_bal              -0.020010\n",
      "annual_inc             -0.041759\n",
      "mort_acc               -0.075294\n",
      "Name: loan_status, dtype: float64\n"
     ]
    },
    {
     "data": {
      "image/png": "[encoded data removed]",
      "text/plain": [
       "<Figure size 1200x800 with 2 Axes>"
      ]
     },
     "metadata": {},
     "output_type": "display_data"
    }
   ],
   "source": [
    "## numeric correlation to the target\n",
    "\n",
    "import matplotlib.pyplot as plt\n",
    "import seaborn as sns\n",
    "\n",
    "# Correlation with target\n",
    "corr = loan_df.corr(numeric_only=True)[\"loan_status\"].sort_values(ascending=False)\n",
    "\n",
    "print(\"Correlation of numeric features with loan_status:\")\n",
    "print(corr)\n",
    "\n",
    "# Heatmap for numeric correlations\n",
    "plt.figure(figsize=(12, 8))\n",
    "sns.heatmap(loan_df.corr(numeric_only=True), cmap=\"coolwarm\", center=0)\n",
    "plt.title(\"Correlation Heatmap of Numeric Features\")\n",
    "plt.show()\n"
   ]
  },
  {
   "cell_type": "code",
   "execution_count": null,
   "metadata": {},
   "outputs": [],
   "source": []
  },
  {
   "cell_type": "code",
   "execution_count": 20,
   "metadata": {},
   "outputs": [
    {
     "name": "stdout",
     "output_type": "stream",
     "text": [
      "Grade vs loan_status (mean):\n",
      "grade\n",
      "G    0.499343\n",
      "F    0.452024\n",
      "E    0.384784\n",
      "D    0.303822\n",
      "C    0.224396\n",
      "B    0.133852\n",
      "A    0.060407\n",
      "Name: loan_status, dtype: float64\n"
     ]
    },
    {
     "data": {
      "image/png": "[encoded data removed]",
      "text/plain": [
       "<Figure size 800x400 with 1 Axes>"
      ]
     },
     "metadata": {},
     "output_type": "display_data"
    },
    {
     "name": "stdout",
     "output_type": "stream",
     "text": [
      "\n",
      "Home Ownership vs loan_status (mean):\n",
      "home_ownership\n",
      "RENT        0.232165\n",
      "OWN         0.206198\n",
      "ANY         0.195804\n",
      "OTHER       0.187500\n",
      "MORTGAGE    0.172077\n",
      "NONE        0.145833\n",
      "Name: loan_status, dtype: float64\n"
     ]
    },
    {
     "data": {
      "image/png": "[encoded data removed]",
      "text/plain": [
       "<Figure size 800x400 with 1 Axes>"
      ]
     },
     "metadata": {},
     "output_type": "display_data"
    }
   ],
   "source": [
    "## oriented correlation to the target\n",
    "\n",
    "\n",
    "# Grade vs loan_status (table + plot)\n",
    "print(\"Grade vs loan_status (mean):\")\n",
    "print(loan_df.groupby(\"grade\")[\"loan_status\"].mean().sort_values(ascending=False))\n",
    "\n",
    "plt.figure(figsize=(8,4))\n",
    "sns.barplot(data=loan_df, x=\"grade\", y=\"loan_status\")\n",
    "plt.title(\"Average loan_status by Grade\")\n",
    "plt.show()\n",
    "\n",
    "\n",
    "# Home ownership vs loan_status (table + plot)\n",
    "print(\"\\nHome Ownership vs loan_status (mean):\")\n",
    "print(loan_df.groupby(\"home_ownership\")[\"loan_status\"].mean().sort_values(ascending=False))\n",
    "\n",
    "plt.figure(figsize=(8,4))\n",
    "sns.barplot(data=loan_df, x=\"home_ownership\", y=\"loan_status\")\n",
    "plt.title(\"Average loan_status by Home Ownership\")\n",
    "plt.show()\n"
   ]
  },
  {
   "cell_type": "code",
   "execution_count": 21,
   "metadata": {},
   "outputs": [
    {
     "name": "stdout",
     "output_type": "stream",
     "text": [
      "Purpose vs loan_status (mean):\n",
      "purpose\n",
      "small_business        0.297094\n",
      "renewable_energy      0.236870\n",
      "moving                0.233544\n",
      "house                 0.218806\n",
      "medical               0.217757\n",
      "debt_consolidation    0.211469\n",
      "other                 0.210401\n",
      "vacation              0.191726\n",
      "major_purchase        0.185998\n",
      "home_improvement      0.177158\n",
      "educational           0.171779\n",
      "credit_card           0.169270\n",
      "car                   0.146795\n",
      "wedding               0.121622\n",
      "Name: loan_status, dtype: float64\n"
     ]
    },
    {
     "data": {
      "image/png": "[encoded data removed]",
      "text/plain": [
       "<Figure size 1000x400 with 1 Axes>"
      ]
     },
     "metadata": {},
     "output_type": "display_data"
    }
   ],
   "source": [
    "# Purpose vs loan_status (table + plot)\n",
    "print(\"Purpose vs loan_status (mean):\")\n",
    "print(loan_df.groupby(\"purpose\")[\"loan_status\"].mean().sort_values(ascending=False))\n",
    "\n",
    "plt.figure(figsize=(10,4))\n",
    "sns.barplot(data=loan_df, x=\"purpose\", y=\"loan_status\", order=loan_df[\"purpose\"].value_counts().index)\n",
    "plt.xticks(rotation=45)\n",
    "plt.title(\"Average loan_status by Loan Purpose\")\n",
    "plt.show()\n"
   ]
  },
  {
   "cell_type": "code",
   "execution_count": 22,
   "metadata": {},
   "outputs": [
    {
     "data": {
      "text/plain": [
       "installment\n",
       "327.34     3063\n",
       "301.15     2690\n",
       "332.10     2670\n",
       "318.79     2295\n",
       "312.86     2067\n",
       "           ... \n",
       "619.24        1\n",
       "458.34        1\n",
       "1267.42       1\n",
       "665.01        1\n",
       "941.33        1\n",
       "Name: count, Length: 83307, dtype: int64"
      ]
     },
     "execution_count": 22,
     "metadata": {},
     "output_type": "execute_result"
    }
   ],
   "source": [
    "loan_df.installment.value_counts()"
   ]
  },
  {
   "cell_type": "code",
   "execution_count": 23,
   "metadata": {},
   "outputs": [
    {
     "name": "stdout",
     "output_type": "stream",
     "text": [
      "Sub-grade vs loan_status (mean):\n",
      "sub_grade\n",
      "G5    0.536036\n",
      "G3    0.513631\n",
      "G4    0.511719\n",
      "F5    0.491758\n",
      "G2    0.491319\n",
      "F4    0.478905\n",
      "G1    0.478478\n",
      "F2    0.453459\n",
      "F3    0.450723\n",
      "F1    0.422969\n",
      "E5    0.417701\n",
      "E4    0.401018\n",
      "E3    0.387121\n",
      "E2    0.375450\n",
      "E1    0.360647\n",
      "D5    0.334270\n",
      "D4    0.323680\n",
      "D3    0.305415\n",
      "D2    0.295866\n",
      "D1    0.278054\n",
      "C5    0.260050\n",
      "C4    0.249204\n",
      "C3    0.225233\n",
      "C2    0.207188\n",
      "C1    0.189838\n",
      "B5    0.167014\n",
      "B4    0.148271\n",
      "B3    0.129835\n",
      "B2    0.113598\n",
      "B1    0.104212\n",
      "A5    0.084043\n",
      "A4    0.068670\n",
      "A3    0.055085\n",
      "A2    0.046640\n",
      "A1    0.032236\n",
      "Name: loan_status, dtype: float64\n"
     ]
    },
    {
     "data": {
      "image/png": "[encoded data removed]",
      "text/plain": [
       "<Figure size 1200x600 with 1 Axes>"
      ]
     },
     "metadata": {},
     "output_type": "display_data"
    }
   ],
   "source": [
    "# Sub-grade vs loan_status (table + plot)\n",
    "print(\"Sub-grade vs loan_status (mean):\")\n",
    "print(loan_df.groupby(\"sub_grade\")[\"loan_status\"].mean().sort_values(ascending=False))\n",
    "\n",
    "plt.figure(figsize=(12,6))\n",
    "sns.barplot(data=loan_df, x=\"sub_grade\", y=\"loan_status\", order=sorted(loan_df[\"sub_grade\"].unique()))\n",
    "plt.title(\"Average loan_status by Sub-grade\")\n",
    "plt.xticks(rotation=90)\n",
    "plt.show()\n"
   ]
  },
  {
   "cell_type": "markdown",
   "metadata": {},
   "source": [
    "# Data Preprocessing"
   ]
  },
  {
   "cell_type": "markdown",
   "metadata": {},
   "source": [
    "🔹 Data Preprocessing Plan\n",
    "\n",
    "1. Handle missing values\n",
    "\n",
    "Drop:\n",
    "\n",
    "emp_title (free-text, high-cardinality, 6% missing).\n",
    "\n",
    "title (free-text, 1.2% missing).\n",
    "\n",
    "Fill:\n",
    "\n",
    "emp_length_years: replace NaN with 0 or \"Unknown\" (after converting to categorical).\n",
    "\n",
    "mort_acc: impute (median or regression on correlated vars like total_acc).\n",
    "\n",
    "revol_util, pub_rec_bankruptcies, dti: negligible missing → fill with median.\n",
    "\n",
    "2. Remove unnecessary features\n",
    "\n",
    "Drop columns not useful for prediction:\n",
    "\n",
    "issue_d (leakage, since it relates to loan origination date).\n",
    "\n",
    "earliest_cr_line (raw year, weak correlation, can be dropped or converted to credit age).\n",
    "\n",
    "Any ID-like columns (we don’t have those in this df).\n",
    "\n",
    "3. Outliers detection/removal\n",
    "\n",
    "Check for extreme values in:\n",
    "\n",
    "annual_inc (income).\n",
    "\n",
    "dti (debt-to-income ratio).\n",
    "\n",
    "revol_util (utilization %).\n",
    "\n",
    "Cap extreme percentiles (e.g., 1st/99th).\n",
    "\n",
    "4. Encoding categorical variables\n",
    "\n",
    "Ordinal encoding:\n",
    "\n",
    "grade → map A–G to numeric scale.\n",
    "\n",
    "sub_grade → map A1–G5 to ordered numeric.\n",
    "\n",
    "One-hot encoding:\n",
    "\n",
    "home_ownership, verification_status, purpose, initial_list_status, application_type.\n",
    "\n",
    "5. Feature scaling\n",
    "\n",
    "For logistic regression: scale numeric features (StandardScaler).\n",
    "\n",
    "For Random Forest: scaling not required, but safe to keep the same pipeline.\n",
    "\n",
    "6. Train-test split\n",
    "\n",
    "Stratify on loan_status to preserve imbalance.\n",
    "\n",
    "Handle class imbalance with:\n",
    "\n",
    "Logistic Regression → class_weight=\"balanced\".\n",
    "\n",
    "Random Forest → can use class_weight or resampling."
   ]
  },
  {
   "cell_type": "code",
   "execution_count": 66,
   "metadata": {},
   "outputs": [
    {
     "name": "stdout",
     "output_type": "stream",
     "text": [
      "Shape before: (1345310, 26)\n",
      "Shape after dropping missing & cols: (1199604, 22)\n",
      "\n",
      "Remaining columns: ['loan_amnt', 'term_months', 'int_rate_percenta', 'installment', 'sub_grade', 'emp_length_years', 'home_ownership', 'annual_inc', 'verification_status', 'loan_status', 'purpose', 'dti', 'open_acc', 'pub_rec', 'revol_bal'] ...\n"
     ]
    }
   ],
   "source": [
    "# Step 2.1 — Drop rows with missing values\n",
    "loan_clean = loan_df.dropna()\n",
    "\n",
    "# Step 2.2 — Drop unneeded columns\n",
    "drop_cols = [\"emp_title\", \"title\", \"grade\", \"issue_d\", \"earliest_cr_line\"]\n",
    "loan_clean = loan_clean.drop(columns=drop_cols)\n",
    "\n",
    "# Step 2.3 — Create credit_age_years\n",
    "loan_clean[\"credit_age_years\"] = loan_df[\"issue_d\"] - loan_df[\"earliest_cr_line\"]\n",
    "\n",
    "# Check results\n",
    "print(\"Shape before:\", loan_df.shape)\n",
    "print(\"Shape after dropping missing & cols:\", loan_clean.shape)\n",
    "print(\"\\nRemaining columns:\", loan_clean.columns.tolist()[:15], \"...\")\n"
   ]
  },
  {
   "cell_type": "code",
   "execution_count": 67,
   "metadata": {},
   "outputs": [
    {
     "name": "stdout",
     "output_type": "stream",
     "text": [
      "Unique values in sub_grade: [14 11 26 13  7  6  2 10 22  4]\n",
      "sub_grade stats:\n",
      " count    1.199604e+06\n",
      "mean     1.171078e+01\n",
      "std      6.442127e+00\n",
      "min      1.000000e+00\n",
      "25%      7.000000e+00\n",
      "50%      1.100000e+01\n",
      "75%      1.500000e+01\n",
      "max      3.500000e+01\n",
      "Name: sub_grade, dtype: float64\n"
     ]
    }
   ],
   "source": [
    "# mapping sub_grade from A1,A1 - 1,2,3...\n",
    "\n",
    "from itertools import product\n",
    "\n",
    "# Build ordered mapping A1..G5 → 1..35\n",
    "letters = list(\"ABCDEFG\")\n",
    "nums = [1,2,3,4,5]\n",
    "ordered = [f\"{L}{n}\" for L, n in product(letters, nums)]\n",
    "subgrade_map = {sg: i+1 for i, sg in enumerate(ordered)}  # A1=1 ... G5=35\n",
    "\n",
    "# Update sub_grade in place\n",
    "loan_clean[\"sub_grade\"] = loan_clean[\"sub_grade\"].map(subgrade_map).astype(\"int8\")\n",
    "\n",
    "# Quick check\n",
    "print(\"Unique values in sub_grade:\", loan_clean[\"sub_grade\"].unique()[:10])\n",
    "print(\"sub_grade stats:\\n\", loan_clean[\"sub_grade\"].describe())\n"
   ]
  },
  {
   "cell_type": "code",
   "execution_count": 68,
   "metadata": {},
   "outputs": [
    {
     "name": "stdout",
     "output_type": "stream",
     "text": [
      "Original shape: (1199604, 22)\n",
      "Encoded shape : (1199604, 39)\n",
      "Remaining object dtypes: []\n",
      "Sample dummy cols: ['home_ownership_MORTGAGE', 'home_ownership_NONE', 'home_ownership_OTHER', 'home_ownership_OWN', 'home_ownership_RENT', 'verification_status_Source Verified', 'verification_status_Verified', 'purpose_credit_card', 'purpose_debt_consolidation', 'purpose_educational', 'purpose_home_improvement', 'purpose_house']\n"
     ]
    }
   ],
   "source": [
    "## Create dummies variables\n",
    "\n",
    "# Step 2.5 — One-hot encode non-ordinal categoricals (drop_first to avoid multicollinearity)\n",
    "cat_cols = [\"home_ownership\", \"verification_status\", \"purpose\",\n",
    "            \"initial_list_status\", \"application_type\"]\n",
    "\n",
    "# Safety: ensure these exist (in case earlier filters changed columns)\n",
    "cat_cols = [c for c in cat_cols if c in loan_clean.columns]\n",
    "\n",
    "loan_enc = pd.get_dummies(loan_clean, columns=cat_cols, drop_first=True)\n",
    "\n",
    "# Sanity checks\n",
    "print(\"Original shape:\", loan_clean.shape)\n",
    "print(\"Encoded shape :\", loan_enc.shape)\n",
    "print(\"Remaining object dtypes:\", loan_enc.select_dtypes(include=[\"object\"]).columns.tolist()[:10])\n",
    "\n",
    "# Optional: quick peek at new dummy columns\n",
    "new_dummy_cols = [c for c in loan_enc.columns if any(c.startswith(cc+\"_\") for cc in cat_cols)]\n",
    "print(\"Sample dummy cols:\", new_dummy_cols[:12])\n"
   ]
  },
  {
   "cell_type": "markdown",
   "metadata": {},
   "source": [
    "## outlier detection & handling."
   ]
  },
  {
   "cell_type": "code",
   "execution_count": 69,
   "metadata": {},
   "outputs": [
    {
     "name": "stdout",
     "output_type": "stream",
     "text": [
      "annual_inc: kept 1175990/1199604 rows (98.03%)\n",
      "dti: kept 1152506/1175990 rows (98.00%)\n",
      "revol_util: kept 1129598/1152506 rows (98.01%)\n",
      "loan_amnt: kept 1111147/1129598 rows (98.37%)\n",
      "installment: kept 1089075/1111147 rows (98.01%)\n",
      "\n",
      "Shape after outlier removal: (1089075, 39)\n"
     ]
    }
   ],
   "source": [
    "# Step 2.6 — Remove outliers\n",
    "\n",
    "num_cols = [\"annual_inc\", \"dti\", \"revol_util\", \"loan_amnt\", \"installment\"]\n",
    "\n",
    "loan_no_outliers = loan_enc.copy()\n",
    "\n",
    "for col in num_cols:\n",
    "    lower = loan_no_outliers[col].quantile(0.01)\n",
    "    upper = loan_no_outliers[col].quantile(0.99)\n",
    "    before = loan_no_outliers.shape[0]\n",
    "    loan_no_outliers = loan_no_outliers[(loan_no_outliers[col] >= lower) & (loan_no_outliers[col] <= upper)]\n",
    "    after = loan_no_outliers.shape[0]\n",
    "    print(f\"{col}: kept {after}/{before} rows ({(after/before*100):.2f}%)\")\n",
    "\n",
    "print(\"\\nShape after outlier removal:\", loan_no_outliers.shape)\n"
   ]
  },
  {
   "cell_type": "code",
   "execution_count": 70,
   "metadata": {
    "scrolled": true
   },
   "outputs": [
    {
     "name": "stdout",
     "output_type": "stream",
     "text": [
      "Shape after absolute cap filtering: (1085693, 39)\n"
     ]
    }
   ],
   "source": [
    "# Apply absolute caps for outlier removal\n",
    "loan_no_outliers = loan_no_outliers[\n",
    "    (loan_no_outliers['annual_inc'] <= 250000) &\n",
    "    (loan_no_outliers['dti'] <= 50) &\n",
    "    (loan_no_outliers['open_acc'] <= 40) &\n",
    "    (loan_no_outliers['total_acc'] <= 80) &\n",
    "    (loan_no_outliers['revol_util'] <= 120) &\n",
    "    (loan_no_outliers['revol_bal'] <= 250000)\n",
    "]\n",
    "\n",
    "print(\"Shape after absolute cap filtering:\", loan_no_outliers.shape)\n"
   ]
  },
  {
   "cell_type": "markdown",
   "metadata": {},
   "source": [
    "# Feature Engineering"
   ]
  },
  {
   "cell_type": "code",
   "execution_count": 71,
   "metadata": {},
   "outputs": [],
   "source": [
    "# Copy dataset\n",
    "loan_ready = loan_no_outliers.copy()\n",
    "\n"
   ]
  },
  {
   "cell_type": "code",
   "execution_count": null,
   "metadata": {},
   "outputs": [],
   "source": []
  },
  {
   "cell_type": "code",
   "execution_count": 72,
   "metadata": {},
   "outputs": [
    {
     "name": "stdout",
     "output_type": "stream",
     "text": [
      "Highly correlated feature pairs (|corr| > 0.8):\n",
      "                   feature_1            feature_2  correlation\n",
      "72         int_rate_percenta            sub_grade     0.978294\n",
      "2                  loan_amnt          installment     0.949227\n",
      "459  home_ownership_MORTGAGE  home_ownership_RENT    -0.814297\n"
     ]
    }
   ],
   "source": [
    "import numpy as np\n",
    "\n",
    "# Compute correlation matrix\n",
    "corr_matrix = loan_ready.drop(columns=[\"loan_status\"]).corr()\n",
    "\n",
    "# Find pairs with strong correlation\n",
    "threshold = 0.8\n",
    "corr_pairs = (\n",
    "    corr_matrix.where(np.triu(np.ones(corr_matrix.shape), k=1).astype(bool))\n",
    "    .stack()\n",
    "    .reset_index()\n",
    ")\n",
    "corr_pairs.columns = [\"feature_1\", \"feature_2\", \"correlation\"]\n",
    "\n",
    "high_corr = corr_pairs[abs(corr_pairs[\"correlation\"]) > threshold] \\\n",
    "                .sort_values(by=\"correlation\", ascending=False)\n",
    "\n",
    "print(\"Highly correlated feature pairs (|corr| > 0.8):\")\n",
    "print(high_corr)\n",
    "\n"
   ]
  },
  {
   "cell_type": "code",
   "execution_count": 73,
   "metadata": {},
   "outputs": [
    {
     "name": "stdout",
     "output_type": "stream",
     "text": [
      "Shape after dropping correlated features: (1085693, 37)\n"
     ]
    }
   ],
   "source": [
    "# of two columns with strong correlation I am dropping one to drop duplication\n",
    "\n",
    "# Drop redundant features\n",
    "loan_ready = loan_ready.drop(columns=[\"int_rate_percenta\", \"installment\"])\n",
    "\n",
    "print(\"Shape after dropping correlated features:\", loan_ready.shape)\n"
   ]
  },
  {
   "cell_type": "code",
   "execution_count": 74,
   "metadata": {},
   "outputs": [
    {
     "name": "stdout",
     "output_type": "stream",
     "text": [
      "sub_grade                              0.120556\n",
      "dti                                    0.104086\n",
      "revol_bal                              0.097636\n",
      "revol_util                             0.096628\n",
      "annual_inc                             0.085846\n",
      "loan_amnt                              0.079997\n",
      "total_acc                              0.075988\n",
      "credit_age_years                       0.069776\n",
      "open_acc                               0.062651\n",
      "emp_length_years                       0.046533\n",
      "mort_acc                               0.030215\n",
      "term_months                            0.027842\n",
      "initial_list_status_w                  0.012850\n",
      "pub_rec                                0.010585\n",
      "verification_status_Source Verified    0.009888\n",
      "dtype: float64\n"
     ]
    }
   ],
   "source": [
    "# Checking which feature are more importance for prediction using randomforest\n",
    "\n",
    "from sklearn.ensemble import RandomForestClassifier\n",
    "\n",
    "X = loan_ready.drop(columns=[\"loan_status\"])\n",
    "y = loan_ready[\"loan_status\"]\n",
    "\n",
    "rf = RandomForestClassifier(\n",
    "    n_estimators=100,\n",
    "    random_state=42,\n",
    "    n_jobs=-1,\n",
    "    class_weight=\"balanced\"\n",
    ")\n",
    "rf.fit(X, y)\n",
    "\n",
    "importances = pd.Series(rf.feature_importances_, index=X.columns)\n",
    "top_features = importances.sort_values(ascending=False).head(15)\n",
    "\n",
    "print(top_features)\n"
   ]
  },
  {
   "cell_type": "code",
   "execution_count": 75,
   "metadata": {},
   "outputs": [
    {
     "name": "stdout",
     "output_type": "stream",
     "text": [
      "Shape after dropping weak features: (1085693, 34)\n"
     ]
    }
   ],
   "source": [
    "# Drop low-importance features !!\n",
    "\n",
    "low_value_feats = [\n",
    "    \"initial_list_status_w\",\n",
    "    \"pub_rec\",\n",
    "    \"verification_status_Source Verified\"\n",
    "]\n",
    "\n",
    "loan_ready = loan_ready.drop(columns=low_value_feats)\n",
    "\n",
    "print(\"Shape after dropping weak features:\", loan_ready.shape)\n"
   ]
  },
  {
   "cell_type": "code",
   "execution_count": 76,
   "metadata": {},
   "outputs": [
    {
     "name": "stdout",
     "output_type": "stream",
     "text": [
      "Columns in loan_ready:\n",
      " ['loan_amnt', 'term_months', 'sub_grade', 'emp_length_years', 'annual_inc', 'loan_status', 'dti', 'open_acc', 'revol_bal', 'revol_util', 'total_acc', 'mort_acc', 'pub_rec_bankruptcies', 'credit_age_years', 'home_ownership_MORTGAGE', 'home_ownership_NONE', 'home_ownership_OTHER', 'home_ownership_OWN', 'home_ownership_RENT', 'verification_status_Verified', 'purpose_credit_card', 'purpose_debt_consolidation', 'purpose_educational', 'purpose_home_improvement', 'purpose_house', 'purpose_major_purchase', 'purpose_medical', 'purpose_moving', 'purpose_other', 'purpose_renewable_energy', 'purpose_small_business', 'purpose_vacation', 'purpose_wedding', 'application_type_Joint App']\n",
      "\n",
      "Sample stats:\n",
      "                count          mean           std      min      25%      50%  \\\n",
      "loan_amnt   1085693.0  14578.502855   8095.349287   1800.0   8000.0  12600.0   \n",
      "annual_inc  1085693.0  74647.424235  37543.714218  21000.0  48000.0  65000.0   \n",
      "revol_bal   1085693.0  15924.255078  16796.860291      6.0   6419.0  11515.0   \n",
      "\n",
      "                75%       max  \n",
      "loan_amnt   20000.0   35000.0  \n",
      "annual_inc  90000.0  250000.0  \n",
      "revol_bal   19876.0  249986.0  \n"
     ]
    }
   ],
   "source": [
    "print(\"Columns in loan_ready:\\n\", loan_ready.columns.tolist())\n",
    "\n",
    "# Quick look at distributions\n",
    "print(\"\\nSample stats:\")\n",
    "print(loan_ready[[\"loan_amnt\", \"annual_inc\", \"revol_bal\"]].describe().T)\n"
   ]
  },
  {
   "cell_type": "code",
   "execution_count": 77,
   "metadata": {},
   "outputs": [
    {
     "name": "stdout",
     "output_type": "stream",
     "text": [
      "       loan_to_income  revol_to_income\n",
      "count    1.085693e+06     1.085693e+06\n",
      "mean     2.145533e-01     2.221801e-01\n",
      "std      1.102053e-01     1.860708e-01\n",
      "min      1.000000e-02     3.913043e-05\n",
      "25%      1.290323e-01     1.028154e-01\n",
      "50%      2.000000e-01     1.799714e-01\n",
      "75%      2.857143e-01     2.904571e-01\n",
      "max      1.559881e+00     5.812760e+00\n"
     ]
    }
   ],
   "source": [
    "# Create ratio features\n",
    "loan_ready[\"loan_to_income\"] = loan_ready[\"loan_amnt\"] / (loan_ready[\"annual_inc\"] + 1e-6)\n",
    "loan_ready[\"revol_to_income\"] = loan_ready[\"revol_bal\"] / (loan_ready[\"annual_inc\"] + 1e-6)\n",
    "\n",
    "# Quick check\n",
    "print(loan_ready[[\"loan_to_income\", \"revol_to_income\"]].describe())\n"
   ]
  },
  {
   "cell_type": "code",
   "execution_count": 78,
   "metadata": {},
   "outputs": [
    {
     "name": "stdout",
     "output_type": "stream",
     "text": [
      "sub_grade                       0.112623\n",
      "dti                             0.089067\n",
      "loan_to_income                  0.082541\n",
      "revol_util                      0.082520\n",
      "revol_to_income                 0.080176\n",
      "revol_bal                       0.079973\n",
      "annual_inc                      0.069128\n",
      "total_acc                       0.065220\n",
      "loan_amnt                       0.063180\n",
      "credit_age_years                0.060482\n",
      "open_acc                        0.054311\n",
      "emp_length_years                0.040418\n",
      "mort_acc                        0.027436\n",
      "term_months                     0.027001\n",
      "verification_status_Verified    0.009133\n",
      "dtype: float64\n"
     ]
    }
   ],
   "source": [
    "# Checking if the new ratio features comtribute for prediction\n",
    "\n",
    "from sklearn.ensemble import RandomForestClassifier\n",
    "\n",
    "X = loan_ready.drop(columns=[\"loan_status\"])\n",
    "y = loan_ready[\"loan_status\"]\n",
    "\n",
    "rf = RandomForestClassifier(\n",
    "    n_estimators=100,\n",
    "    random_state=42,\n",
    "    n_jobs=-1,\n",
    "    class_weight=\"balanced\"\n",
    ")\n",
    "rf.fit(X, y)\n",
    "\n",
    "importances = pd.Series(rf.feature_importances_, index=X.columns)\n",
    "top_features = importances.sort_values(ascending=False).head(15)\n",
    "\n",
    "print(top_features)\n"
   ]
  },
  {
   "cell_type": "code",
   "execution_count": 79,
   "metadata": {},
   "outputs": [
    {
     "name": "stdout",
     "output_type": "stream",
     "text": [
      "Purpose counts:\n",
      "purpose_debt_consolidation    649079\n",
      "purpose_credit_card           247973\n",
      "purpose_home_improvement       65332\n",
      "purpose_other                  53768\n",
      "purpose_major_purchase         19930\n",
      "purpose_medical                10687\n",
      "purpose_small_business          9986\n",
      "purpose_moving                  6466\n",
      "purpose_vacation                5713\n",
      "purpose_house                   5109\n",
      "purpose_wedding                 1083\n",
      "purpose_renewable_energy         606\n",
      "purpose_educational                0\n",
      "dtype: int64\n"
     ]
    }
   ],
   "source": [
    "# Count how many rows belong to each purpose category\n",
    "purpose_cols = [c for c in loan_ready.columns if c.startswith(\"purpose_\")]\n",
    "purpose_counts = loan_ready[purpose_cols].sum().sort_values(ascending=False)\n",
    "\n",
    "print(\"Purpose counts:\")\n",
    "print(purpose_counts)\n"
   ]
  },
  {
   "cell_type": "code",
   "execution_count": 80,
   "metadata": {},
   "outputs": [
    {
     "name": "stdout",
     "output_type": "stream",
     "text": [
      "Remaining purpose columns: ['purpose_credit_card', 'purpose_debt_consolidation', 'purpose_home_improvement', 'purpose_major_purchase', 'purpose_other', 'purpose_other_merged']\n",
      "Shape after merge: (1085693, 29)\n"
     ]
    }
   ],
   "source": [
    "# Identify purpose columns\n",
    "purpose_cols = [c for c in loan_ready.columns if c.startswith(\"purpose_\")]\n",
    "\n",
    "# Define categories to KEEP (based on frequency)\n",
    "keep_purposes = [\n",
    "    \"purpose_debt_consolidation\",\n",
    "    \"purpose_credit_card\",\n",
    "    \"purpose_home_improvement\",\n",
    "    \"purpose_major_purchase\",\n",
    "    \"purpose_other\"  # already exists, we'll expand it\n",
    "]\n",
    "\n",
    "# Create a new merged purpose_other\n",
    "loan_ready[\"purpose_other_merged\"] = loan_ready[purpose_cols].drop(columns=keep_purposes, errors=\"ignore\").max(axis=1)\n",
    "\n",
    "# Drop old rare categories\n",
    "drop_purposes = [c for c in purpose_cols if c not in keep_purposes]\n",
    "loan_ready = loan_ready.drop(columns=drop_purposes)\n",
    "\n",
    "print(\"Remaining purpose columns:\", [c for c in loan_ready.columns if c.startswith(\"purpose_\")])\n",
    "print(\"Shape after merge:\", loan_ready.shape)\n"
   ]
  },
  {
   "cell_type": "code",
   "execution_count": 81,
   "metadata": {},
   "outputs": [
    {
     "name": "stdout",
     "output_type": "stream",
     "text": [
      "Final purpose columns: ['purpose_credit_card', 'purpose_debt_consolidation', 'purpose_home_improvement', 'purpose_major_purchase', 'purpose_other']\n",
      "Shape after cleanup: (1085693, 28)\n"
     ]
    }
   ],
   "source": [
    "# Drop the old 'purpose_other'\n",
    "loan_ready = loan_ready.drop(columns=[\"purpose_other\"])\n",
    "\n",
    "# Rename the merged column for clarity\n",
    "loan_ready = loan_ready.rename(columns={\"purpose_other_merged\": \"purpose_other\"})\n",
    "\n",
    "print(\"Final purpose columns:\", [c for c in loan_ready.columns if c.startswith(\"purpose_\")])\n",
    "print(\"Shape after cleanup:\", loan_ready.shape)\n"
   ]
  },
  {
   "cell_type": "code",
   "execution_count": 82,
   "metadata": {},
   "outputs": [
    {
     "name": "stdout",
     "output_type": "stream",
     "text": [
      "sub_grade                     0.112235\n",
      "dti                           0.091758\n",
      "loan_to_income                0.084565\n",
      "revol_util                    0.084461\n",
      "revol_to_income               0.081489\n",
      "revol_bal                     0.081354\n",
      "annual_inc                    0.068530\n",
      "total_acc                     0.065897\n",
      "loan_amnt                     0.062103\n",
      "credit_age_years              0.060906\n",
      "open_acc                      0.053845\n",
      "emp_length_years              0.039681\n",
      "mort_acc                      0.026467\n",
      "term_months                   0.026171\n",
      "purpose_debt_consolidation    0.009319\n",
      "dtype: float64\n"
     ]
    }
   ],
   "source": [
    "from sklearn.ensemble import RandomForestClassifier\n",
    "import pandas as pd\n",
    "\n",
    "X = loan_ready.drop(columns=[\"loan_status\"])\n",
    "y = loan_ready[\"loan_status\"]\n",
    "\n",
    "rf = RandomForestClassifier(\n",
    "    n_estimators=100,\n",
    "    random_state=42,\n",
    "    n_jobs=-1,\n",
    "    class_weight=\"balanced\"\n",
    ")\n",
    "rf.fit(X, y)\n",
    "\n",
    "importances = pd.Series(rf.feature_importances_, index=X.columns)\n",
    "top_features = importances.sort_values(ascending=False).head(15)\n",
    "\n",
    "print(top_features)\n"
   ]
  },
  {
   "cell_type": "code",
   "execution_count": null,
   "metadata": {},
   "outputs": [],
   "source": []
  },
  {
   "cell_type": "markdown",
   "metadata": {},
   "source": [
    "## Scailing the data"
   ]
  },
  {
   "cell_type": "code",
   "execution_count": 83,
   "metadata": {},
   "outputs": [
    {
     "name": "stdout",
     "output_type": "stream",
     "text": [
      "Numeric columns to scale: ['loan_amnt', 'sub_grade', 'emp_length_years', 'annual_inc', 'dti', 'open_acc', 'revol_bal', 'revol_util', 'total_acc', 'mort_acc', 'pub_rec_bankruptcies', 'credit_age_years', 'loan_to_income', 'revol_to_income']\n",
      "\n",
      "Scaled sample:\n",
      "   loan_amnt  sub_grade  emp_length_years  annual_inc       dti  open_acc  \\\n",
      "0  -1.356150   0.372971          1.078798   -0.523322 -1.549639 -0.905555   \n",
      "1   1.250286  -0.095070          1.078798   -0.256965 -0.278090  1.909432   \n",
      "4  -0.516161   2.245136         -0.822227    0.793358  0.888227  0.032774   \n",
      "5  -0.324693   0.216957         -0.550652   -1.082670 -1.012206 -1.280886   \n",
      "6   0.669705  -0.719126          1.078798    2.806132 -0.452224  0.032774   \n",
      "\n",
      "   revol_bal  revol_util  total_acc  mort_acc  pub_rec_bankruptcies  \\\n",
      "0  -0.783436   -0.984819  -1.048087 -0.332771             -0.356874   \n",
      "1   0.330166   -1.438293   1.091082  1.186426             -0.356874   \n",
      "4   0.357492    0.518125   0.834382  2.199225             -0.356874   \n",
      "5  -0.422832    0.686558  -1.647055 -0.839170             -0.356874   \n",
      "6   4.251079    1.381886   0.149847  1.186426             -0.356874   \n",
      "\n",
      "   credit_age_years  loan_to_income  revol_to_income  \n",
      "0         -0.565044       -1.352918        -0.923882  \n",
      "1         -0.006448        1.501260         0.581110  \n",
      "4          0.133200       -1.043216        -0.065559  \n",
      "5          1.669338        1.242385         0.200410  \n",
      "6          1.250392       -0.938632         1.413339  \n"
     ]
    }
   ],
   "source": [
    "from sklearn.preprocessing import StandardScaler\n",
    "\n",
    "# Identify numeric features (excluding target and dummies)\n",
    "# Dummies are all 0/1 → low number of unique values\n",
    "num_cols = [col for col in loan_ready.columns \n",
    "            if loan_ready[col].dtype in [\"float64\",\"int64\",\"int32\",\"int8\"] \n",
    "            and col != \"loan_status\"\n",
    "            and loan_ready[col].nunique() > 3]  # filter out dummies\n",
    "\n",
    "print(\"Numeric columns to scale:\", num_cols)\n",
    "\n",
    "# Scale only continuous numeric features\n",
    "scaler = StandardScaler()\n",
    "loan_ready[num_cols] = scaler.fit_transform(loan_ready[num_cols])\n",
    "\n",
    "# Check result\n",
    "print(\"\\nScaled sample:\")\n",
    "print(loan_ready[num_cols].head())\n",
    "\n"
   ]
  },
  {
   "cell_type": "markdown",
   "metadata": {},
   "source": [
    "# Train Test Data"
   ]
  },
  {
   "cell_type": "code",
   "execution_count": 84,
   "metadata": {},
   "outputs": [],
   "source": [
    "# Features and target\n",
    "X = loan_ready.drop(\"loan_status\", axis=1)\n",
    "y = loan_ready[\"loan_status\"]"
   ]
  },
  {
   "cell_type": "code",
   "execution_count": 85,
   "metadata": {},
   "outputs": [
    {
     "name": "stdout",
     "output_type": "stream",
     "text": [
      "Train set class balance:\n",
      "loan_status\n",
      "0    0.803\n",
      "1    0.197\n",
      "Name: proportion, dtype: float64\n",
      "\n",
      "Test set class balance:\n",
      "loan_status\n",
      "0    0.803\n",
      "1    0.197\n",
      "Name: proportion, dtype: float64\n",
      "\n",
      "Shapes:\n",
      "X_train: (868554, 27) X_test: (217139, 27)\n"
     ]
    }
   ],
   "source": [
    "from sklearn.model_selection import train_test_split\n",
    "\n",
    "\n",
    "# Train-test split with stratification (80/20)\n",
    "X_train, X_test, y_train, y_test = train_test_split(X, y, test_size=0.2, random_state=42, stratify=y)\n",
    "\n",
    "# Check class balance in train/test\n",
    "print(\"Train set class balance:\")\n",
    "print(y_train.value_counts(normalize=True).round(3))\n",
    "\n",
    "print(\"\\nTest set class balance:\")\n",
    "print(y_test.value_counts(normalize=True).round(3))\n",
    "\n",
    "print(\"\\nShapes:\")\n",
    "print(\"X_train:\", X_train.shape, \"X_test:\", X_test.shape)\n"
   ]
  },
  {
   "cell_type": "code",
   "execution_count": 67,
   "metadata": {},
   "outputs": [
    {
     "name": "stderr",
     "output_type": "stream",
     "text": [
      "C:\\Users\\Lenovo\\AppData\\Roaming\\Python\\Python312\\site-packages\\sklearn\\linear_model\\_sag.py:348: ConvergenceWarning: The max_iter was reached which means the coef_ did not converge\n",
      "  warnings.warn(\n"
     ]
    },
    {
     "name": "stdout",
     "output_type": "stream",
     "text": [
      "Confusion Matrix:\n",
      "[[117647  57332]\n",
      " [ 15670  27166]]\n",
      "\n",
      "Classification Report:\n",
      "              precision    recall  f1-score   support\n",
      "\n",
      "           0      0.882     0.672     0.763    174979\n",
      "           1      0.321     0.634     0.427     42836\n",
      "\n",
      "    accuracy                          0.665    217815\n",
      "   macro avg      0.602     0.653     0.595    217815\n",
      "weighted avg      0.772     0.665     0.697    217815\n",
      "\n",
      "\n",
      "ROC-AUC: 0.7118\n"
     ]
    }
   ],
   "source": [
    "from sklearn.linear_model import LogisticRegression\n",
    "from sklearn.metrics import classification_report, confusion_matrix, roc_auc_score\n",
    "\n",
    "# Baseline Logistic Regression (handles imbalance via class_weight)\n",
    "logit = LogisticRegression(\n",
    "    solver=\"saga\",        # scalable for large datasets\n",
    "    penalty=\"l2\",\n",
    "    class_weight=\"balanced\",\n",
    "    max_iter=300,\n",
    "    n_jobs=None,          # keep default for broad compatibility\n",
    "    random_state=42\n",
    ")\n",
    "\n",
    "logit.fit(X_train, y_train)\n",
    "\n",
    "# Predictions\n",
    "y_pred = logit.predict(X_test)\n",
    "y_proba = logit.predict_proba(X_test)[:, 1]\n",
    "\n",
    "# Metrics\n",
    "print(\"Confusion Matrix:\")\n",
    "print(confusion_matrix(y_test, y_pred))\n",
    "\n",
    "print(\"\\nClassification Report:\")\n",
    "print(classification_report(y_test, y_pred, digits=3))\n",
    "\n",
    "print(\"\\nROC-AUC:\", round(roc_auc_score(y_test, y_proba), 4))\n"
   ]
  },
  {
   "cell_type": "code",
   "execution_count": 86,
   "metadata": {
    "scrolled": true
   },
   "outputs": [
    {
     "name": "stdout",
     "output_type": "stream",
     "text": [
      "Confusion Matrix:\n",
      "[[165043   9395]\n",
      " [ 34855   7846]]\n",
      "\n",
      "Classification Report:\n",
      "              precision    recall  f1-score   support\n",
      "\n",
      "           0      0.826     0.946     0.882    174438\n",
      "           1      0.455     0.184     0.262     42701\n",
      "\n",
      "    accuracy                          0.796    217139\n",
      "   macro avg      0.640     0.565     0.572    217139\n",
      "weighted avg      0.753     0.796     0.760    217139\n",
      "\n",
      "\n",
      "ROC-AUC: 0.7061\n"
     ]
    }
   ],
   "source": [
    "from sklearn.ensemble import RandomForestClassifier\n",
    "from sklearn.metrics import classification_report, confusion_matrix, roc_auc_score\n",
    "\n",
    "# Random Forest with class weight balanced\n",
    "rf = RandomForestClassifier(\n",
    "    n_estimators=100,       # number of trees\n",
    "    max_depth=None,         # let trees grow fully\n",
    "    min_samples_split=10,   # small regularization\n",
    "    class_weight=\"balanced\",\n",
    "    n_jobs=-1,\n",
    "    random_state=42\n",
    ")\n",
    "\n",
    "rf.fit(X_train, y_train)\n",
    "\n",
    "# Predictions\n",
    "y_pred_rf = rf.predict(X_test)\n",
    "y_proba_rf = rf.predict_proba(X_test)[:, 1]\n",
    "\n",
    "# Metrics\n",
    "print(\"Confusion Matrix:\")\n",
    "print(confusion_matrix(y_test, y_pred_rf))\n",
    "\n",
    "print(\"\\nClassification Report:\")\n",
    "print(classification_report(y_test, y_pred_rf, digits=3))\n",
    "\n",
    "print(\"\\nROC-AUC:\", round(roc_auc_score(y_test, y_proba_rf), 4))\n"
   ]
  },
  {
   "cell_type": "code",
   "execution_count": 88,
   "metadata": {
    "scrolled": false
   },
   "outputs": [
    {
     "name": "stdout",
     "output_type": "stream",
     "text": [
      "PR-AUC: 0.3609\n",
      "Chosen threshold: 0.351\n",
      "\n",
      "Confusion Matrix (adjusted):\n",
      "[[135028  39410]\n",
      " [ 21350  21351]]\n",
      "\n",
      "Classification Report (adjusted):\n",
      "              precision    recall  f1-score   support\n",
      "\n",
      "           0      0.863     0.774     0.816    174438\n",
      "           1      0.351     0.500     0.413     42701\n",
      "\n",
      "    accuracy                          0.720    217139\n",
      "   macro avg      0.607     0.637     0.615    217139\n",
      "weighted avg      0.763     0.720     0.737    217139\n",
      "\n"
     ]
    }
   ],
   "source": [
    "# RandomForest using other trashhold to increase default detection\n",
    "\n",
    "import numpy as np\n",
    "from sklearn.metrics import precision_recall_curve, auc\n",
    "\n",
    "# Get predicted probabilities\n",
    "y_proba_rf = rf.predict_proba(X_test)[:, 1]\n",
    "\n",
    "# Compute precision-recall curve\n",
    "prec, rec, thresholds = precision_recall_curve(y_test, y_proba_rf)\n",
    "pr_auc = auc(rec, prec)\n",
    "print(\"PR-AUC:\", round(pr_auc, 4))\n",
    "\n",
    "# Find threshold that gives ~0.50 recall (tune as needed)\n",
    "target_recall = 0.50\n",
    "idx = np.argmin(np.abs(rec - target_recall))\n",
    "best_thresh = thresholds[idx]\n",
    "print(\"Chosen threshold:\", round(best_thresh, 3))\n",
    "\n",
    "# Apply new threshold\n",
    "y_pred_thresh = (y_proba_rf >= best_thresh).astype(int)\n",
    "\n",
    "# Metrics again\n",
    "print(\"\\nConfusion Matrix (adjusted):\")\n",
    "print(confusion_matrix(y_test, y_pred_thresh))\n",
    "\n",
    "print(\"\\nClassification Report (adjusted):\")\n",
    "print(classification_report(y_test, y_pred_thresh, digits=3))\n"
   ]
  },
  {
   "cell_type": "code",
   "execution_count": null,
   "metadata": {},
   "outputs": [],
   "source": []
  },
  {
   "cell_type": "code",
   "execution_count": null,
   "metadata": {},
   "outputs": [],
   "source": []
  },
  {
   "cell_type": "code",
   "execution_count": null,
   "metadata": {},
   "outputs": [],
   "source": []
  },
  {
   "cell_type": "code",
   "execution_count": null,
   "metadata": {},
   "outputs": [],
   "source": []
  },
  {
   "cell_type": "code",
   "execution_count": null,
   "metadata": {},
   "outputs": [],
   "source": []
  },
  {
   "cell_type": "code",
   "execution_count": null,
   "metadata": {},
   "outputs": [],
   "source": []
  },
  {
   "cell_type": "code",
   "execution_count": null,
   "metadata": {},
   "outputs": [],
   "source": []
  },
  {
   "cell_type": "code",
   "execution_count": null,
   "metadata": {},
   "outputs": [],
   "source": []
  },
  {
   "cell_type": "code",
   "execution_count": null,
   "metadata": {},
   "outputs": [],
   "source": [
    "from sklearn.neural_network import MLPClassifier\n",
    "\n",
    "clf = MLPClassifier(solver='lbfgs', alpha=1e-5,\n",
    "                    hidden_layer_sizes=(5, 2), random_state=1)"
   ]
  },
  {
   "cell_type": "code",
   "execution_count": 90,
   "metadata": {},
   "outputs": [
    {
     "name": "stdout",
     "output_type": "stream",
     "text": [
      "scale_pos_weight = 4.085\n",
      "ROC-AUC: 0.7169\n",
      "PR-AUC : 0.3778\n",
      "Chosen threshold: 0.584\n",
      "\n",
      "Confusion Matrix:\n",
      "[[137081  37357]\n",
      " [ 21350  21351]]\n",
      "\n",
      "Classification Report:\n",
      "              precision    recall  f1-score   support\n",
      "\n",
      "           0      0.865     0.786     0.824    174438\n",
      "           1      0.364     0.500     0.421     42701\n",
      "\n",
      "    accuracy                          0.730    217139\n",
      "   macro avg      0.614     0.643     0.622    217139\n",
      "weighted avg      0.767     0.730     0.744    217139\n",
      "\n"
     ]
    }
   ],
   "source": [
    "import xgboost as xgb\n",
    "from sklearn.model_selection import train_test_split\n",
    "from sklearn.metrics import (\n",
    "    classification_report, confusion_matrix,\n",
    "    roc_auc_score, average_precision_score, precision_recall_curve\n",
    ")\n",
    "import numpy as np\n",
    "\n",
    "# 1) Split\n",
    "X = loan_ready.drop(columns=[\"loan_status\"])\n",
    "y = loan_ready[\"loan_status\"].astype(int)\n",
    "\n",
    "X_tr, X_te, y_tr, y_te = train_test_split(X, y, test_size=0.2, random_state=42, stratify=y)\n",
    "X_tr, X_val, y_tr, y_val = train_test_split(X_tr, y_tr, test_size=0.2, random_state=42, stratify=y_tr)\n",
    "\n",
    "# 2) DMatrices\n",
    "dtrain = xgb.DMatrix(X_tr, label=y_tr)\n",
    "dval   = xgb.DMatrix(X_val, label=y_val)\n",
    "dtest  = xgb.DMatrix(X_te, label=y_te)\n",
    "\n",
    "# 3) Params (+ imbalance handling)\n",
    "scale_pos_weight = (y_tr == 0).sum() / (y_tr == 1).sum()\n",
    "print(\"scale_pos_weight =\", round(scale_pos_weight, 3))\n",
    "\n",
    "params = {\n",
    "    \"objective\": \"binary:logistic\",\n",
    "    \"eval_metric\": \"auc\",\n",
    "    \"eta\": 0.05,\n",
    "    \"max_depth\": 6,\n",
    "    \"subsample\": 0.8,\n",
    "    \"colsample_bytree\": 0.8,\n",
    "    \"min_child_weight\": 1,\n",
    "    \"lambda\": 1.0,\n",
    "    \"alpha\": 0.0,\n",
    "    \"scale_pos_weight\": scale_pos_weight,\n",
    "    \"tree_method\": \"hist\",\n",
    "    \"seed\": 42,\n",
    "}\n",
    "\n",
    "# 4) Train with early stopping\n",
    "bst = xgb.train(\n",
    "    params,\n",
    "    dtrain,\n",
    "    num_boost_round=2000,\n",
    "    evals=[(dtrain, \"train\"), (dval, \"validation\")],\n",
    "    early_stopping_rounds=50,\n",
    "    verbose_eval=False\n",
    ")\n",
    "\n",
    "# 5) Predict on TEST using best iteration\n",
    "y_proba = bst.predict(dtest, iteration_range=(0, bst.best_iteration + 1))\n",
    "\n",
    "# 6) Metrics\n",
    "print(\"ROC-AUC:\", round(roc_auc_score(y_te, y_proba), 4))\n",
    "print(\"PR-AUC :\", round(average_precision_score(y_te, y_proba), 4))\n",
    "\n",
    "# 7) Pick threshold for ~50% recall (tune as desired)\n",
    "prec, rec, thr = precision_recall_curve(y_te, y_proba)\n",
    "target_recall = 0.50\n",
    "idx = np.argmin(np.abs(rec - target_recall))\n",
    "best_t = thr[idx] if idx < len(thr) else 0.5\n",
    "print(\"Chosen threshold:\", round(best_t, 3))\n",
    "\n",
    "y_pred = (y_proba >= best_t).astype(int)\n",
    "\n",
    "print(\"\\nConfusion Matrix:\")\n",
    "print(confusion_matrix(y_te, y_pred))\n",
    "print(\"\\nClassification Report:\")\n",
    "print(classification_report(y_te, y_pred, digits=3))\n"
   ]
  },
  {
   "cell_type": "code",
   "execution_count": 91,
   "metadata": {},
   "outputs": [
    {
     "name": "stdout",
     "output_type": "stream",
     "text": [
      "Threshold | Precision | Recall | F1\n",
      "0.30      | 0.240     | 0.922   | 0.381\n",
      "0.35      | 0.255     | 0.879   | 0.395\n",
      "0.40      | 0.272     | 0.825   | 0.410\n",
      "0.45      | 0.292     | 0.757   | 0.422\n",
      "0.50      | 0.316     | 0.672   | 0.430\n",
      "0.55      | 0.343     | 0.575   | 0.430\n",
      "0.60      | 0.374     | 0.466   | 0.415\n",
      "0.65      | 0.411     | 0.357   | 0.382\n",
      "0.70      | 0.451     | 0.252   | 0.323\n"
     ]
    }
   ],
   "source": [
    "import numpy as np\n",
    "from sklearn.metrics import precision_score, recall_score, f1_score\n",
    "\n",
    "# Define thresholds to test\n",
    "thresholds = np.linspace(0.3, 0.7, 9)  # 0.30, 0.35, ..., 0.70\n",
    "\n",
    "results = []\n",
    "\n",
    "for t in thresholds:\n",
    "    y_pred = (y_proba >= t).astype(int)\n",
    "    precision = precision_score(y_test, y_pred, pos_label=1)\n",
    "    recall = recall_score(y_test, y_pred, pos_label=1)\n",
    "    f1 = f1_score(y_test, y_pred, pos_label=1)\n",
    "    results.append((t, precision, recall, f1))\n",
    "\n",
    "# Display results\n",
    "print(\"Threshold | Precision | Recall | F1\")\n",
    "for t, p, r, f in results:\n",
    "    print(f\"{t:.2f}      | {p:.3f}     | {r:.3f}   | {f:.3f}\")\n"
   ]
  },
  {
   "cell_type": "code",
   "execution_count": 95,
   "metadata": {},
   "outputs": [
    {
     "name": "stdout",
     "output_type": "stream",
     "text": [
      "Confusion Matrix (threshold = 0.3 ):\n",
      "[[ 49732 124706]\n",
      " [  3338  39363]]\n",
      "\n",
      "Classification Report:\n",
      "              precision    recall  f1-score   support\n",
      "\n",
      "           0      0.937     0.285     0.437    174438\n",
      "           1      0.240     0.922     0.381     42701\n",
      "\n",
      "    accuracy                          0.410    217139\n",
      "   macro avg      0.589     0.603     0.409    217139\n",
      "weighted avg      0.800     0.410     0.426    217139\n",
      "\n"
     ]
    }
   ],
   "source": [
    "from sklearn.metrics import confusion_matrix, classification_report\n",
    "\n",
    "# Best threshold (highest recall)\n",
    "best_t = 0.30  \n",
    "\n",
    "# Apply threshold\n",
    "y_pred_best = (y_proba >= best_t).astype(int)\n",
    "\n",
    "# Confusion matrix\n",
    "cm = confusion_matrix(y_test, y_pred_best)\n",
    "print(\"Confusion Matrix (threshold =\", best_t, \"):\")\n",
    "print(cm)\n",
    "\n",
    "# Detailed report\n",
    "print(\"\\nClassification Report:\")\n",
    "print(classification_report(y_test, y_pred_best, digits=3))\n",
    "\n"
   ]
  },
  {
   "cell_type": "code",
   "execution_count": 93,
   "metadata": {},
   "outputs": [
    {
     "name": "stdout",
     "output_type": "stream",
     "text": [
      "Confusion Matrix:\n",
      "[[174438      0]\n",
      " [ 42701      0]]\n",
      "\n",
      "Classification Report:\n",
      "              precision    recall  f1-score   support\n",
      "\n",
      "           0      0.803     1.000     0.891    174438\n",
      "           1      0.000     0.000     0.000     42701\n",
      "\n",
      "    accuracy                          0.803    217139\n",
      "   macro avg      0.402     0.500     0.445    217139\n",
      "weighted avg      0.645     0.803     0.716    217139\n",
      "\n",
      "\n",
      "ROC-AUC: 0.5\n"
     ]
    },
    {
     "name": "stderr",
     "output_type": "stream",
     "text": [
      "C:\\Users\\Lenovo\\AppData\\Roaming\\Python\\Python312\\site-packages\\sklearn\\metrics\\_classification.py:1731: UndefinedMetricWarning: Precision is ill-defined and being set to 0.0 in labels with no predicted samples. Use `zero_division` parameter to control this behavior.\n",
      "  _warn_prf(average, modifier, f\"{metric.capitalize()} is\", result.shape[0])\n",
      "C:\\Users\\Lenovo\\AppData\\Roaming\\Python\\Python312\\site-packages\\sklearn\\metrics\\_classification.py:1731: UndefinedMetricWarning: Precision is ill-defined and being set to 0.0 in labels with no predicted samples. Use `zero_division` parameter to control this behavior.\n",
      "  _warn_prf(average, modifier, f\"{metric.capitalize()} is\", result.shape[0])\n",
      "C:\\Users\\Lenovo\\AppData\\Roaming\\Python\\Python312\\site-packages\\sklearn\\metrics\\_classification.py:1731: UndefinedMetricWarning: Precision is ill-defined and being set to 0.0 in labels with no predicted samples. Use `zero_division` parameter to control this behavior.\n",
      "  _warn_prf(average, modifier, f\"{metric.capitalize()} is\", result.shape[0])\n"
     ]
    }
   ],
   "source": [
    "from sklearn.neural_network import MLPClassifier\n",
    "from sklearn.metrics import classification_report, confusion_matrix, roc_auc_score\n",
    "\n",
    "# Define the model\n",
    "mlp = MLPClassifier(\n",
    "    solver=\"lbfgs\",              # optimizer\n",
    "    alpha=1e-5,                  # L2 penalty (regularization)\n",
    "    hidden_layer_sizes=(5, 2),   # architecture (two hidden layers: 5 neurons, then 2 neurons)\n",
    "    random_state=42,\n",
    "    max_iter=500                 # increase iterations for convergence\n",
    ")\n",
    "\n",
    "# Fit\n",
    "mlp.fit(X_train, y_train)\n",
    "\n",
    "# Predict\n",
    "y_pred_mlp = mlp.predict(X_test)\n",
    "y_proba_mlp = mlp.predict_proba(X_test)[:, 1]\n",
    "\n",
    "# Metrics\n",
    "print(\"Confusion Matrix:\")\n",
    "print(confusion_matrix(y_test, y_pred_mlp))\n",
    "\n",
    "print(\"\\nClassification Report:\")\n",
    "print(classification_report(y_test, y_pred_mlp, digits=3))\n",
    "\n",
    "print(\"\\nROC-AUC:\", round(roc_auc_score(y_test, y_proba_mlp), 4))\n"
   ]
  },
  {
   "cell_type": "code",
   "execution_count": 94,
   "metadata": {},
   "outputs": [
    {
     "name": "stdout",
     "output_type": "stream",
     "text": [
      "Chosen threshold: 0.592\n",
      "ROC-AUC: 0.7163\n",
      "\n",
      "Confusion Matrix:\n",
      "[[137170  37268]\n",
      " [ 21350  21351]]\n",
      "\n",
      "Classification Report:\n",
      "              precision    recall  f1-score   support\n",
      "\n",
      "           0      0.865     0.786     0.824    174438\n",
      "           1      0.364     0.500     0.421     42701\n",
      "\n",
      "    accuracy                          0.730    217139\n",
      "   macro avg      0.615     0.643     0.623    217139\n",
      "weighted avg      0.767     0.730     0.745    217139\n",
      "\n"
     ]
    }
   ],
   "source": [
    "from sklearn.neural_network import MLPClassifier\n",
    "from sklearn.utils.class_weight import compute_sample_weight\n",
    "from sklearn.metrics import classification_report, confusion_matrix, roc_auc_score, precision_recall_curve\n",
    "import numpy as np\n",
    "\n",
    "# class-balanced sample weights\n",
    "sw = compute_sample_weight(class_weight=\"balanced\", y=y_train)\n",
    "\n",
    "mlp = MLPClassifier(\n",
    "    hidden_layer_sizes=(64, 32),\n",
    "    activation=\"relu\",\n",
    "    solver=\"adam\",\n",
    "    learning_rate_init=1e-3,\n",
    "    alpha=1e-4,                 # L2\n",
    "    batch_size=512,\n",
    "    max_iter=200,\n",
    "    early_stopping=True,\n",
    "    n_iter_no_change=10,\n",
    "    validation_fraction=0.1,\n",
    "    random_state=42,\n",
    "    verbose=False\n",
    ")\n",
    "\n",
    "mlp.fit(X_train, y_train, sample_weight=sw)\n",
    "\n",
    "# probs + threshold tuning for recall\n",
    "y_proba_mlp = mlp.predict_proba(X_test)[:, 1]\n",
    "\n",
    "# pick threshold for ~0.50 recall (adjust as you wish)\n",
    "prec, rec, thr = precision_recall_curve(y_test, y_proba_mlp)\n",
    "target_recall = 0.50\n",
    "idx = np.argmin(np.abs(rec - target_recall))\n",
    "best_t = thr[idx] if idx < len(thr) else 0.5\n",
    "\n",
    "y_pred_mlp = (y_proba_mlp >= best_t).astype(int)\n",
    "\n",
    "print(\"Chosen threshold:\", round(best_t, 3))\n",
    "print(\"ROC-AUC:\", round(roc_auc_score(y_test, y_proba_mlp), 4))\n",
    "print(\"\\nConfusion Matrix:\")\n",
    "print(confusion_matrix(y_test, y_pred_mlp))\n",
    "print(\"\\nClassification Report:\")\n",
    "print(classification_report(y_test, y_pred_mlp, digits=3))\n"
   ]
  },
  {
   "cell_type": "code",
   "execution_count": null,
   "metadata": {},
   "outputs": [],
   "source": []
  },
  {
   "cell_type": "code",
   "execution_count": null,
   "metadata": {},
   "outputs": [],
   "source": []
  },
  {
   "cell_type": "code",
   "execution_count": null,
   "metadata": {},
   "outputs": [],
   "source": []
  },
  {
   "cell_type": "code",
   "execution_count": null,
   "metadata": {},
   "outputs": [],
   "source": []
  },
  {
   "cell_type": "code",
   "execution_count": null,
   "metadata": {},
   "outputs": [],
   "source": []
  },
  {
   "cell_type": "code",
   "execution_count": null,
   "metadata": {},
   "outputs": [],
   "source": []
  },
  {
   "cell_type": "code",
   "execution_count": 101,
   "metadata": {},
   "outputs": [
    {
     "name": "stdout",
     "output_type": "stream",
     "text": [
      "Collecting xgboost\n",
      "  Downloading xgboost-1.6.2-py3-none-win_amd64.whl (125.4 MB)\n",
      "Requirement already satisfied: scipy in c:\\users\\lenovo\\anaconda3\\lib\\site-packages (from xgboost) (1.4.1)\n",
      "Requirement already satisfied: numpy in c:\\users\\lenovo\\anaconda3\\lib\\site-packages (from xgboost) (1.18.1)\n",
      "Installing collected packages: xgboost\n",
      "Successfully installed xgboost-1.6.2\n"
     ]
    }
   ],
   "source": [
    "!pip install xgboost"
   ]
  },
  {
   "cell_type": "code",
   "execution_count": null,
   "metadata": {},
   "outputs": [],
   "source": []
  },
  {
   "cell_type": "code",
   "execution_count": null,
   "metadata": {},
   "outputs": [],
   "source": []
  },
  {
   "cell_type": "code",
   "execution_count": 104,
   "metadata": {},
   "outputs": [
    {
     "name": "stdout",
     "output_type": "stream",
     "text": [
      "Defaulting to user installation because normal site-packages is not writeable\n",
      "Collecting xgboost\n",
      "  Downloading xgboost-3.0.5-py3-none-win_amd64.whl.metadata (2.1 kB)\n",
      "Requirement already satisfied: numpy in c:\\users\\lenovo\\appdata\\roaming\\python\\python312\\site-packages (from xgboost) (2.3.2)\n",
      "Requirement already satisfied: scipy in c:\\users\\lenovo\\appdata\\roaming\\python\\python312\\site-packages (from xgboost) (1.16.2)\n",
      "Downloading xgboost-3.0.5-py3-none-win_amd64.whl (56.8 MB)\n",
      "   ---------------------------------------- 0.0/56.8 MB ? eta -:--:--\n",
      "   ------- -------------------------------- 10.7/56.8 MB 51.7 MB/s eta 0:00:01\n",
      "   ---------------- ----------------------- 24.1/56.8 MB 52.7 MB/s eta 0:00:01\n",
      "   ------------------------ --------------- 34.6/56.8 MB 52.3 MB/s eta 0:00:01\n",
      "   ------------------------------- -------- 45.4/56.8 MB 52.4 MB/s eta 0:00:01\n",
      "   ---------------------------------------  55.6/56.8 MB 51.3 MB/s eta 0:00:01\n",
      "   ---------------------------------------  56.6/56.8 MB 51.5 MB/s eta 0:00:01\n",
      "   ---------------------------------------- 56.8/56.8 MB 43.6 MB/s  0:00:01\n",
      "Installing collected packages: xgboost\n",
      "Successfully installed xgboost-3.0.5\n",
      "Note: you may need to restart the kernel to use updated packages.\n"
     ]
    }
   ],
   "source": [
    "pip install xgboost"
   ]
  },
  {
   "cell_type": "code",
   "execution_count": null,
   "metadata": {},
   "outputs": [],
   "source": []
  },
  {
   "cell_type": "code",
   "execution_count": null,
   "metadata": {},
   "outputs": [],
   "source": []
  },
  {
   "cell_type": "markdown",
   "metadata": {},
   "source": [
    "# Inspecting more feature engineer"
   ]
  },
  {
   "cell_type": "code",
   "execution_count": 38,
   "metadata": {},
   "outputs": [
    {
     "data": {
      "text/html": [
       "<div>\n",
       "<style scoped>\n",
       "    .dataframe tbody tr th:only-of-type {\n",
       "        vertical-align: middle;\n",
       "    }\n",
       "\n",
       "    .dataframe tbody tr th {\n",
       "        vertical-align: top;\n",
       "    }\n",
       "\n",
       "    .dataframe thead th {\n",
       "        text-align: right;\n",
       "    }\n",
       "</style>\n",
       "<table border=\"1\" class=\"dataframe\">\n",
       "  <thead>\n",
       "    <tr style=\"text-align: right;\">\n",
       "      <th></th>\n",
       "      <th>loan_amnt</th>\n",
       "      <th>term_months</th>\n",
       "      <th>int_rate_percenta</th>\n",
       "      <th>installment</th>\n",
       "      <th>sub_grade</th>\n",
       "      <th>emp_length_years</th>\n",
       "      <th>annual_inc</th>\n",
       "      <th>loan_status</th>\n",
       "      <th>dti</th>\n",
       "      <th>open_acc</th>\n",
       "      <th>pub_rec</th>\n",
       "      <th>revol_bal</th>\n",
       "      <th>revol_util</th>\n",
       "      <th>total_acc</th>\n",
       "      <th>mort_acc</th>\n",
       "      <th>pub_rec_bankruptcies</th>\n",
       "      <th>credit_age_years</th>\n",
       "      <th>home_ownership_MORTGAGE</th>\n",
       "      <th>home_ownership_NONE</th>\n",
       "      <th>home_ownership_OTHER</th>\n",
       "      <th>home_ownership_OWN</th>\n",
       "      <th>home_ownership_RENT</th>\n",
       "      <th>verification_status_Source Verified</th>\n",
       "      <th>verification_status_Verified</th>\n",
       "      <th>purpose_credit_card</th>\n",
       "      <th>purpose_debt_consolidation</th>\n",
       "      <th>purpose_educational</th>\n",
       "      <th>purpose_home_improvement</th>\n",
       "      <th>purpose_house</th>\n",
       "      <th>purpose_major_purchase</th>\n",
       "      <th>purpose_medical</th>\n",
       "      <th>purpose_moving</th>\n",
       "      <th>purpose_other</th>\n",
       "      <th>purpose_renewable_energy</th>\n",
       "      <th>purpose_small_business</th>\n",
       "      <th>purpose_vacation</th>\n",
       "      <th>purpose_wedding</th>\n",
       "      <th>initial_list_status_w</th>\n",
       "      <th>application_type_Joint App</th>\n",
       "    </tr>\n",
       "  </thead>\n",
       "  <tbody>\n",
       "    <tr>\n",
       "      <th>0</th>\n",
       "      <td>-1.356150</td>\n",
       "      <td>36.0</td>\n",
       "      <td>0.166786</td>\n",
       "      <td>-1.339504</td>\n",
       "      <td>0.372971</td>\n",
       "      <td>1.078798</td>\n",
       "      <td>-0.523322</td>\n",
       "      <td>0</td>\n",
       "      <td>-1.549639</td>\n",
       "      <td>-0.905555</td>\n",
       "      <td>-0.358779</td>\n",
       "      <td>-0.783436</td>\n",
       "      <td>-0.984819</td>\n",
       "      <td>-1.048087</td>\n",
       "      <td>-0.332771</td>\n",
       "      <td>-0.356874</td>\n",
       "      <td>-0.565044</td>\n",
       "      <td>True</td>\n",
       "      <td>False</td>\n",
       "      <td>False</td>\n",
       "      <td>False</td>\n",
       "      <td>False</td>\n",
       "      <td>False</td>\n",
       "      <td>False</td>\n",
       "      <td>False</td>\n",
       "      <td>True</td>\n",
       "      <td>False</td>\n",
       "      <td>False</td>\n",
       "      <td>False</td>\n",
       "      <td>False</td>\n",
       "      <td>False</td>\n",
       "      <td>False</td>\n",
       "      <td>False</td>\n",
       "      <td>False</td>\n",
       "      <td>False</td>\n",
       "      <td>False</td>\n",
       "      <td>False</td>\n",
       "      <td>True</td>\n",
       "      <td>False</td>\n",
       "    </tr>\n",
       "    <tr>\n",
       "      <th>1</th>\n",
       "      <td>1.250286</td>\n",
       "      <td>36.0</td>\n",
       "      <td>-0.253421</td>\n",
       "      <td>1.600461</td>\n",
       "      <td>-0.095070</td>\n",
       "      <td>1.078798</td>\n",
       "      <td>-0.256965</td>\n",
       "      <td>0</td>\n",
       "      <td>-0.278090</td>\n",
       "      <td>1.909432</td>\n",
       "      <td>-0.358779</td>\n",
       "      <td>0.330166</td>\n",
       "      <td>-1.438293</td>\n",
       "      <td>1.091082</td>\n",
       "      <td>1.186426</td>\n",
       "      <td>-0.356874</td>\n",
       "      <td>-0.006448</td>\n",
       "      <td>True</td>\n",
       "      <td>False</td>\n",
       "      <td>False</td>\n",
       "      <td>False</td>\n",
       "      <td>False</td>\n",
       "      <td>False</td>\n",
       "      <td>False</td>\n",
       "      <td>False</td>\n",
       "      <td>False</td>\n",
       "      <td>False</td>\n",
       "      <td>False</td>\n",
       "      <td>False</td>\n",
       "      <td>False</td>\n",
       "      <td>False</td>\n",
       "      <td>False</td>\n",
       "      <td>False</td>\n",
       "      <td>False</td>\n",
       "      <td>True</td>\n",
       "      <td>False</td>\n",
       "      <td>False</td>\n",
       "      <td>True</td>\n",
       "      <td>False</td>\n",
       "    </tr>\n",
       "    <tr>\n",
       "      <th>4</th>\n",
       "      <td>-0.516161</td>\n",
       "      <td>60.0</td>\n",
       "      <td>1.944261</td>\n",
       "      <td>-0.635852</td>\n",
       "      <td>2.245136</td>\n",
       "      <td>-0.822227</td>\n",
       "      <td>0.793358</td>\n",
       "      <td>0</td>\n",
       "      <td>0.888227</td>\n",
       "      <td>0.032774</td>\n",
       "      <td>-0.358779</td>\n",
       "      <td>0.357492</td>\n",
       "      <td>0.518125</td>\n",
       "      <td>0.834382</td>\n",
       "      <td>2.199225</td>\n",
       "      <td>-0.356874</td>\n",
       "      <td>0.133200</td>\n",
       "      <td>True</td>\n",
       "      <td>False</td>\n",
       "      <td>False</td>\n",
       "      <td>False</td>\n",
       "      <td>False</td>\n",
       "      <td>True</td>\n",
       "      <td>False</td>\n",
       "      <td>False</td>\n",
       "      <td>False</td>\n",
       "      <td>False</td>\n",
       "      <td>False</td>\n",
       "      <td>False</td>\n",
       "      <td>True</td>\n",
       "      <td>False</td>\n",
       "      <td>False</td>\n",
       "      <td>False</td>\n",
       "      <td>False</td>\n",
       "      <td>False</td>\n",
       "      <td>False</td>\n",
       "      <td>False</td>\n",
       "      <td>True</td>\n",
       "      <td>False</td>\n",
       "    </tr>\n",
       "    <tr>\n",
       "      <th>5</th>\n",
       "      <td>-0.324693</td>\n",
       "      <td>36.0</td>\n",
       "      <td>0.051229</td>\n",
       "      <td>-0.149814</td>\n",
       "      <td>0.216957</td>\n",
       "      <td>-0.550652</td>\n",
       "      <td>-1.082670</td>\n",
       "      <td>0</td>\n",
       "      <td>-1.012206</td>\n",
       "      <td>-1.280886</td>\n",
       "      <td>-0.358779</td>\n",
       "      <td>-0.422832</td>\n",
       "      <td>0.686558</td>\n",
       "      <td>-1.647055</td>\n",
       "      <td>-0.839170</td>\n",
       "      <td>-0.356874</td>\n",
       "      <td>1.669338</td>\n",
       "      <td>False</td>\n",
       "      <td>False</td>\n",
       "      <td>False</td>\n",
       "      <td>False</td>\n",
       "      <td>True</td>\n",
       "      <td>True</td>\n",
       "      <td>False</td>\n",
       "      <td>False</td>\n",
       "      <td>True</td>\n",
       "      <td>False</td>\n",
       "      <td>False</td>\n",
       "      <td>False</td>\n",
       "      <td>False</td>\n",
       "      <td>False</td>\n",
       "      <td>False</td>\n",
       "      <td>False</td>\n",
       "      <td>False</td>\n",
       "      <td>False</td>\n",
       "      <td>False</td>\n",
       "      <td>False</td>\n",
       "      <td>True</td>\n",
       "      <td>False</td>\n",
       "    </tr>\n",
       "    <tr>\n",
       "      <th>6</th>\n",
       "      <td>0.669705</td>\n",
       "      <td>36.0</td>\n",
       "      <td>-0.845912</td>\n",
       "      <td>0.830104</td>\n",
       "      <td>-0.719126</td>\n",
       "      <td>1.078798</td>\n",
       "      <td>2.806132</td>\n",
       "      <td>0</td>\n",
       "      <td>-0.452224</td>\n",
       "      <td>0.032774</td>\n",
       "      <td>-0.358779</td>\n",
       "      <td>4.251079</td>\n",
       "      <td>1.381886</td>\n",
       "      <td>0.149847</td>\n",
       "      <td>1.186426</td>\n",
       "      <td>-0.356874</td>\n",
       "      <td>1.250392</td>\n",
       "      <td>True</td>\n",
       "      <td>False</td>\n",
       "      <td>False</td>\n",
       "      <td>False</td>\n",
       "      <td>False</td>\n",
       "      <td>False</td>\n",
       "      <td>False</td>\n",
       "      <td>False</td>\n",
       "      <td>True</td>\n",
       "      <td>False</td>\n",
       "      <td>False</td>\n",
       "      <td>False</td>\n",
       "      <td>False</td>\n",
       "      <td>False</td>\n",
       "      <td>False</td>\n",
       "      <td>False</td>\n",
       "      <td>False</td>\n",
       "      <td>False</td>\n",
       "      <td>False</td>\n",
       "      <td>False</td>\n",
       "      <td>False</td>\n",
       "      <td>False</td>\n",
       "    </tr>\n",
       "  </tbody>\n",
       "</table>\n",
       "</div>"
      ],
      "text/plain": [
       "   loan_amnt  term_months  int_rate_percenta  installment  sub_grade  \\\n",
       "0  -1.356150         36.0           0.166786    -1.339504   0.372971   \n",
       "1   1.250286         36.0          -0.253421     1.600461  -0.095070   \n",
       "4  -0.516161         60.0           1.944261    -0.635852   2.245136   \n",
       "5  -0.324693         36.0           0.051229    -0.149814   0.216957   \n",
       "6   0.669705         36.0          -0.845912     0.830104  -0.719126   \n",
       "\n",
       "   emp_length_years  annual_inc  loan_status       dti  open_acc   pub_rec  \\\n",
       "0          1.078798   -0.523322            0 -1.549639 -0.905555 -0.358779   \n",
       "1          1.078798   -0.256965            0 -0.278090  1.909432 -0.358779   \n",
       "4         -0.822227    0.793358            0  0.888227  0.032774 -0.358779   \n",
       "5         -0.550652   -1.082670            0 -1.012206 -1.280886 -0.358779   \n",
       "6          1.078798    2.806132            0 -0.452224  0.032774 -0.358779   \n",
       "\n",
       "   revol_bal  revol_util  total_acc  mort_acc  pub_rec_bankruptcies  \\\n",
       "0  -0.783436   -0.984819  -1.048087 -0.332771             -0.356874   \n",
       "1   0.330166   -1.438293   1.091082  1.186426             -0.356874   \n",
       "4   0.357492    0.518125   0.834382  2.199225             -0.356874   \n",
       "5  -0.422832    0.686558  -1.647055 -0.839170             -0.356874   \n",
       "6   4.251079    1.381886   0.149847  1.186426             -0.356874   \n",
       "\n",
       "   credit_age_years  home_ownership_MORTGAGE  home_ownership_NONE  \\\n",
       "0         -0.565044                     True                False   \n",
       "1         -0.006448                     True                False   \n",
       "4          0.133200                     True                False   \n",
       "5          1.669338                    False                False   \n",
       "6          1.250392                     True                False   \n",
       "\n",
       "   home_ownership_OTHER  home_ownership_OWN  home_ownership_RENT  \\\n",
       "0                 False               False                False   \n",
       "1                 False               False                False   \n",
       "4                 False               False                False   \n",
       "5                 False               False                 True   \n",
       "6                 False               False                False   \n",
       "\n",
       "   verification_status_Source Verified  verification_status_Verified  \\\n",
       "0                                False                         False   \n",
       "1                                False                         False   \n",
       "4                                 True                         False   \n",
       "5                                 True                         False   \n",
       "6                                False                         False   \n",
       "\n",
       "   purpose_credit_card  purpose_debt_consolidation  purpose_educational  \\\n",
       "0                False                        True                False   \n",
       "1                False                       False                False   \n",
       "4                False                       False                False   \n",
       "5                False                        True                False   \n",
       "6                False                        True                False   \n",
       "\n",
       "   purpose_home_improvement  purpose_house  purpose_major_purchase  \\\n",
       "0                     False          False                   False   \n",
       "1                     False          False                   False   \n",
       "4                     False          False                    True   \n",
       "5                     False          False                   False   \n",
       "6                     False          False                   False   \n",
       "\n",
       "   purpose_medical  purpose_moving  purpose_other  purpose_renewable_energy  \\\n",
       "0            False           False          False                     False   \n",
       "1            False           False          False                     False   \n",
       "4            False           False          False                     False   \n",
       "5            False           False          False                     False   \n",
       "6            False           False          False                     False   \n",
       "\n",
       "   purpose_small_business  purpose_vacation  purpose_wedding  \\\n",
       "0                   False             False            False   \n",
       "1                    True             False            False   \n",
       "4                   False             False            False   \n",
       "5                   False             False            False   \n",
       "6                   False             False            False   \n",
       "\n",
       "   initial_list_status_w  application_type_Joint App  \n",
       "0                   True                       False  \n",
       "1                   True                       False  \n",
       "4                   True                       False  \n",
       "5                   True                       False  \n",
       "6                  False                       False  "
      ]
     },
     "execution_count": 38,
     "metadata": {},
     "output_type": "execute_result"
    }
   ],
   "source": [
    "loan_ready.head()\n"
   ]
  },
  {
   "cell_type": "code",
   "execution_count": 39,
   "metadata": {
    "scrolled": false
   },
   "outputs": [
    {
     "name": "stdout",
     "output_type": "stream",
     "text": [
      "<class 'pandas.core.frame.DataFrame'>\n",
      "Index: 1085693 entries, 0 to 2260697\n",
      "Data columns (total 39 columns):\n",
      " #   Column                               Non-Null Count    Dtype  \n",
      "---  ------                               --------------    -----  \n",
      " 0   loan_amnt                            1085693 non-null  float64\n",
      " 1   term_months                          1085693 non-null  float64\n",
      " 2   int_rate_percenta                    1085693 non-null  float64\n",
      " 3   installment                          1085693 non-null  float64\n",
      " 4   sub_grade                            1085693 non-null  float64\n",
      " 5   emp_length_years                     1085693 non-null  float64\n",
      " 6   annual_inc                           1085693 non-null  float64\n",
      " 7   loan_status                          1085693 non-null  int64  \n",
      " 8   dti                                  1085693 non-null  float64\n",
      " 9   open_acc                             1085693 non-null  float64\n",
      " 10  pub_rec                              1085693 non-null  float64\n",
      " 11  revol_bal                            1085693 non-null  float64\n",
      " 12  revol_util                           1085693 non-null  float64\n",
      " 13  total_acc                            1085693 non-null  float64\n",
      " 14  mort_acc                             1085693 non-null  float64\n",
      " 15  pub_rec_bankruptcies                 1085693 non-null  float64\n",
      " 16  credit_age_years                     1085693 non-null  float64\n",
      " 17  home_ownership_MORTGAGE              1085693 non-null  bool   \n",
      " 18  home_ownership_NONE                  1085693 non-null  bool   \n",
      " 19  home_ownership_OTHER                 1085693 non-null  bool   \n",
      " 20  home_ownership_OWN                   1085693 non-null  bool   \n",
      " 21  home_ownership_RENT                  1085693 non-null  bool   \n",
      " 22  verification_status_Source Verified  1085693 non-null  bool   \n",
      " 23  verification_status_Verified         1085693 non-null  bool   \n",
      " 24  purpose_credit_card                  1085693 non-null  bool   \n",
      " 25  purpose_debt_consolidation           1085693 non-null  bool   \n",
      " 26  purpose_educational                  1085693 non-null  bool   \n",
      " 27  purpose_home_improvement             1085693 non-null  bool   \n",
      " 28  purpose_house                        1085693 non-null  bool   \n",
      " 29  purpose_major_purchase               1085693 non-null  bool   \n",
      " 30  purpose_medical                      1085693 non-null  bool   \n",
      " 31  purpose_moving                       1085693 non-null  bool   \n",
      " 32  purpose_other                        1085693 non-null  bool   \n",
      " 33  purpose_renewable_energy             1085693 non-null  bool   \n",
      " 34  purpose_small_business               1085693 non-null  bool   \n",
      " 35  purpose_vacation                     1085693 non-null  bool   \n",
      " 36  purpose_wedding                      1085693 non-null  bool   \n",
      " 37  initial_list_status_w                1085693 non-null  bool   \n",
      " 38  application_type_Joint App           1085693 non-null  bool   \n",
      "dtypes: bool(22), float64(16), int64(1)\n",
      "memory usage: 171.9 MB\n"
     ]
    }
   ],
   "source": [
    "loan_ready.info()"
   ]
  },
  {
   "cell_type": "code",
   "execution_count": null,
   "metadata": {},
   "outputs": [],
   "source": []
  },
  {
   "cell_type": "markdown",
   "metadata": {},
   "source": []
  },
  {
   "cell_type": "code",
   "execution_count": 33,
   "metadata": {},
   "outputs": [
    {
     "data": {
      "text/plain": [
       "loan_status\n",
       "0    872189\n",
       "1    213504\n",
       "Name: count, dtype: int64"
      ]
     },
     "execution_count": 33,
     "metadata": {},
     "output_type": "execute_result"
    }
   ],
   "source": [
    "loan_ready[\"loan_status\"].value_counts(dropna=False)\n"
   ]
  },
  {
   "cell_type": "code",
   "execution_count": null,
   "metadata": {},
   "outputs": [],
   "source": []
  },
  {
   "cell_type": "code",
   "execution_count": null,
   "metadata": {},
   "outputs": [],
   "source": []
  },
  {
   "cell_type": "code",
   "execution_count": null,
   "metadata": {},
   "outputs": [],
   "source": []
  },
  {
   "cell_type": "code",
   "execution_count": null,
   "metadata": {},
   "outputs": [],
   "source": []
  },
  {
   "cell_type": "code",
   "execution_count": null,
   "metadata": {},
   "outputs": [],
   "source": []
  },
  {
   "cell_type": "code",
   "execution_count": null,
   "metadata": {},
   "outputs": [],
   "source": []
  },
  {
   "cell_type": "code",
   "execution_count": null,
   "metadata": {},
   "outputs": [],
   "source": []
  },
  {
   "cell_type": "code",
   "execution_count": null,
   "metadata": {},
   "outputs": [],
   "source": []
  },
  {
   "cell_type": "code",
   "execution_count": null,
   "metadata": {},
   "outputs": [],
   "source": []
  },
  {
   "cell_type": "code",
   "execution_count": null,
   "metadata": {},
   "outputs": [],
   "source": []
  },
  {
   "cell_type": "code",
   "execution_count": null,
   "metadata": {},
   "outputs": [],
   "source": []
  },
  {
   "cell_type": "code",
   "execution_count": null,
   "metadata": {},
   "outputs": [],
   "source": []
  },
  {
   "cell_type": "code",
   "execution_count": null,
   "metadata": {},
   "outputs": [],
   "source": []
  },
  {
   "cell_type": "code",
   "execution_count": null,
   "metadata": {},
   "outputs": [],
   "source": []
  },
  {
   "cell_type": "code",
   "execution_count": null,
   "metadata": {},
   "outputs": [],
   "source": []
  },
  {
   "cell_type": "markdown",
   "metadata": {},
   "source": [
    "| Rank | Feature                                                     | Type           | Predictive Strength | Why it Matters                                                                    |\n",
    "| ---- | ----------------------------------------------------------- | -------------- | ------------------- | --------------------------------------------------------------------------------- |\n",
    "| 1    | **sub_grade / grade**                                       | Categorical    | ⭐⭐⭐⭐⭐ (Very High)   | Strong monotonic trend (A ≈ 97% paid → G ≈ 46% paid). Key creditworthiness proxy. |\n",
    "| 2    | **int_rate_percent**                                        | Numeric        | ⭐⭐⭐⭐⭐ (Very High)   | Strongest numeric correlation (–0.26). Higher interest = higher default.          |\n",
    "| 3    | **term_months**                                             | Numeric        | ⭐⭐⭐⭐☆ (High)        | 60-month loans default much more than 36-month. Clear separation.                 |\n",
    "| 4    | **dti** (Debt-to-Income)                                    | Numeric        | ⭐⭐⭐⭐☆ (High)        | Correlated (–0.08). Borrowers with high DTI struggle more to repay.               |\n",
    "| 5    | **purpose**                                                 | Categorical    | ⭐⭐⭐⭐☆ (High)        | Certain purposes (small_business, medical) are much riskier than others.          |\n",
    "| 6    | **verification_status**                                     | Categorical    | ⭐⭐⭐⭐☆ (High)        | Clear differences: Verified ≈ 24% default vs Not Verified ≈ 15%.                  |\n",
    "| 7    | **home_ownership**                                          | Categorical    | ⭐⭐⭐⭐☆ (High)        | RENT default ≈ 23% vs MORTGAGE ≈ 17%. Adds demographic/financial context.         |\n",
    "| 8    | **loan_amnt**                                               | Numeric        | ⭐⭐⭐☆ (Medium)       | Larger loans show slightly higher default (–0.07).                                |\n",
    "| 9    | **revol_util**                                              | Numeric        | ⭐⭐⭐☆ (Medium)       | Higher utilization → higher default (–0.06).                                      |\n",
    "| 10   | **application_type**                                        | Categorical    | ⭐⭐☆☆ (Low-Med)      | Joint apps default more (25% vs 20%). Small effect, but categorical signal.       |\n",
    "| 11   | **annual_inc**                                              | Numeric        | ⭐⭐☆☆ (Low-Med)      | Weak correlation (+0.04). Useful with log transform / binning.                    |\n",
    "| 12   | **mort_acc**                                                | Numeric        | ⭐⭐☆☆ (Low-Med)      | Slight positive correlation (+0.07). May proxy mortgage creditworthiness.         |\n",
    "| 13   | **issue_d** (loan vintage)                                  | Date → Numeric | ⭐⭐☆☆ (Low-Med)      | Older vintages may have different repayment patterns; needs feature engineering.  |\n",
    "| 14   | **earliest_cr_line** (credit history length)                | Date → Numeric | ⭐⭐☆☆ (Low-Med)      | Longer history = slightly safer (–0.04). Feature engineering improves it.         |\n",
    "| 15   | **installment**                                             | Numeric        | ⭐☆☆☆ (Low)          | Overlaps with loan_amnt & int_rate. Adds limited unique signal.                   |\n",
    "| 16   | **revol_bal**                                               | Numeric        | ⭐☆☆☆ (Low)          | Very weak correlation (+0.02).                                                    |\n",
    "| 17   | **emp_length_years**                                        | Numeric        | ⭐☆☆☆ (Low)          | Almost no predictive power (+0.01).                                               |\n",
    "| 18   | **total_acc**                                               | Numeric        | ⭐☆☆☆ (Low)          | Very weak (0.01).                                                                 |\n",
    "| 19   | **pub_rec / bankruptcies / open_acc / initial_list_status** | Numeric / Cat  | 🚫 (Very Low)       | Noisy, correlations <0.03. Likely safe to drop.                                   |\n"
   ]
  },
  {
   "cell_type": "code",
   "execution_count": null,
   "metadata": {},
   "outputs": [],
   "source": []
  },
  {
   "cell_type": "code",
   "execution_count": null,
   "metadata": {},
   "outputs": [],
   "source": []
  },
  {
   "cell_type": "code",
   "execution_count": null,
   "metadata": {},
   "outputs": [],
   "source": []
  },
  {
   "cell_type": "code",
   "execution_count": null,
   "metadata": {},
   "outputs": [],
   "source": []
  },
  {
   "cell_type": "code",
   "execution_count": null,
   "metadata": {},
   "outputs": [],
   "source": []
  },
  {
   "cell_type": "code",
   "execution_count": null,
   "metadata": {},
   "outputs": [],
   "source": []
  },
  {
   "cell_type": "code",
   "execution_count": null,
   "metadata": {},
   "outputs": [],
   "source": []
  },
  {
   "cell_type": "code",
   "execution_count": null,
   "metadata": {},
   "outputs": [],
   "source": []
  },
  {
   "cell_type": "code",
   "execution_count": null,
   "metadata": {},
   "outputs": [],
   "source": []
  },
  {
   "cell_type": "code",
   "execution_count": null,
   "metadata": {},
   "outputs": [],
   "source": []
  },
  {
   "cell_type": "code",
   "execution_count": null,
   "metadata": {},
   "outputs": [],
   "source": []
  },
  {
   "cell_type": "code",
   "execution_count": null,
   "metadata": {},
   "outputs": [],
   "source": []
  }
 ],
 "metadata": {
  "kernelspec": {
   "display_name": "Python 3.12",
   "language": "python",
   "name": "python312"
  },
  "language_info": {
   "codemirror_mode": {
    "name": "ipython",
    "version": 3
   },
   "file_extension": ".py",
   "mimetype": "text/x-python",
   "name": "python",
   "nbconvert_exporter": "python",
   "pygments_lexer": "ipython3",
   "version": "3.12.2"
  }
 },
 "nbformat": 4,
 "nbformat_minor": 4
}
